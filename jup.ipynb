{
 "cells": [
  {
   "cell_type": "code",
   "execution_count": 6,
   "id": "2e20a3df",
   "metadata": {},
   "outputs": [
    {
     "ename": "ModuleNotFoundError",
     "evalue": "No module named 'pandas'",
     "output_type": "error",
     "traceback": [
      "\u001b[31m---------------------------------------------------------------------------\u001b[39m",
      "\u001b[31mModuleNotFoundError\u001b[39m                       Traceback (most recent call last)",
      "\u001b[36mCell\u001b[39m\u001b[36m \u001b[39m\u001b[32mIn[6]\u001b[39m\u001b[32m, line 1\u001b[39m\n\u001b[32m----> \u001b[39m\u001b[32m1\u001b[39m \u001b[38;5;28;01mimport\u001b[39;00m\u001b[38;5;250m \u001b[39m\u001b[34;01mpandas\u001b[39;00m\u001b[38;5;250m \u001b[39m\u001b[38;5;28;01mas\u001b[39;00m\u001b[38;5;250m \u001b[39m\u001b[34;01mpd\u001b[39;00m\n\u001b[32m      2\u001b[39m \u001b[38;5;28;01mimport\u001b[39;00m\u001b[38;5;250m \u001b[39m\u001b[34;01mnumpy\u001b[39;00m\u001b[38;5;250m \u001b[39m\u001b[38;5;28;01mas\u001b[39;00m\u001b[38;5;250m \u001b[39m\u001b[34;01mnp\u001b[39;00m\n\u001b[32m      3\u001b[39m \u001b[38;5;28;01mimport\u001b[39;00m\u001b[38;5;250m \u001b[39m\u001b[34;01mpymongo\u001b[39;00m\n",
      "\u001b[31mModuleNotFoundError\u001b[39m: No module named 'pandas'"
     ]
    }
   ],
   "source": [
    "import pandas as pd\n",
    "import numpy as np\n",
    "import pymongo\n",
    "from dotenv import load_dotenv\n",
    "import os"
   ]
  },
  {
   "cell_type": "code",
   "execution_count": 3,
   "id": "199afb4a",
   "metadata": {},
   "outputs": [
    {
     "ename": "NameError",
     "evalue": "name 'pd' is not defined",
     "output_type": "error",
     "traceback": [
      "\u001b[31m---------------------------------------------------------------------------\u001b[39m",
      "\u001b[31mNameError\u001b[39m                                 Traceback (most recent call last)",
      "\u001b[36mCell\u001b[39m\u001b[36m \u001b[39m\u001b[32mIn[3]\u001b[39m\u001b[32m, line 1\u001b[39m\n\u001b[32m----> \u001b[39m\u001b[32m1\u001b[39m df = \u001b[43mpd\u001b[49m.read_csv(\u001b[33mr\u001b[39m\u001b[33m'\u001b[39m\u001b[33mC:\u001b[39m\u001b[33m\\\u001b[39m\u001b[33mUsers\u001b[39m\u001b[33m\\\u001b[39m\u001b[33mrgarlay\u001b[39m\u001b[33m\\\u001b[39m\u001b[33mDesktop\u001b[39m\u001b[33m\\\u001b[39m\u001b[33mDS\u001b[39m\u001b[33m\\\u001b[39m\u001b[33mLearning Python\u001b[39m\u001b[33m\\\u001b[39m\u001b[33mMongo db\u001b[39m\u001b[33m\\\u001b[39m\u001b[33marchive\u001b[39m\u001b[33m\\\u001b[39m\u001b[33mRetail Sales Analysis.csv\u001b[39m\u001b[33m'\u001b[39m)\n",
      "\u001b[31mNameError\u001b[39m: name 'pd' is not defined"
     ]
    }
   ],
   "source": [
    "df = pd.read_csv(r'C:\\Users\\rgarlay\\Desktop\\DS\\Learning Python\\Mongo db\\archive\\Retail Sales Analysis.csv')"
   ]
  },
  {
   "cell_type": "code",
   "execution_count": 3,
   "id": "d11e22fa",
   "metadata": {},
   "outputs": [
    {
     "data": {
      "text/html": [
       "<div>\n",
       "<style scoped>\n",
       "    .dataframe tbody tr th:only-of-type {\n",
       "        vertical-align: middle;\n",
       "    }\n",
       "\n",
       "    .dataframe tbody tr th {\n",
       "        vertical-align: top;\n",
       "    }\n",
       "\n",
       "    .dataframe thead th {\n",
       "        text-align: right;\n",
       "    }\n",
       "</style>\n",
       "<table border=\"1\" class=\"dataframe\">\n",
       "  <thead>\n",
       "    <tr style=\"text-align: right;\">\n",
       "      <th></th>\n",
       "      <th>transactions_id</th>\n",
       "      <th>sale_date</th>\n",
       "      <th>sale_time</th>\n",
       "      <th>customer_id</th>\n",
       "      <th>gender</th>\n",
       "      <th>age</th>\n",
       "      <th>category</th>\n",
       "      <th>quantiy</th>\n",
       "      <th>price_per_unit</th>\n",
       "      <th>cogs</th>\n",
       "      <th>total_sale</th>\n",
       "    </tr>\n",
       "  </thead>\n",
       "  <tbody>\n",
       "    <tr>\n",
       "      <th>0</th>\n",
       "      <td>180</td>\n",
       "      <td>05-11-2022</td>\n",
       "      <td>10:47:00</td>\n",
       "      <td>117</td>\n",
       "      <td>Male</td>\n",
       "      <td>41.0</td>\n",
       "      <td>Clothing</td>\n",
       "      <td>3.0</td>\n",
       "      <td>300.0</td>\n",
       "      <td>129.0</td>\n",
       "      <td>900.0</td>\n",
       "    </tr>\n",
       "    <tr>\n",
       "      <th>1</th>\n",
       "      <td>522</td>\n",
       "      <td>09-07-2022</td>\n",
       "      <td>11:00:00</td>\n",
       "      <td>52</td>\n",
       "      <td>Male</td>\n",
       "      <td>46.0</td>\n",
       "      <td>Beauty</td>\n",
       "      <td>3.0</td>\n",
       "      <td>500.0</td>\n",
       "      <td>145.0</td>\n",
       "      <td>1500.0</td>\n",
       "    </tr>\n",
       "    <tr>\n",
       "      <th>2</th>\n",
       "      <td>559</td>\n",
       "      <td>12-12-2022</td>\n",
       "      <td>10:48:00</td>\n",
       "      <td>5</td>\n",
       "      <td>Female</td>\n",
       "      <td>40.0</td>\n",
       "      <td>Clothing</td>\n",
       "      <td>4.0</td>\n",
       "      <td>300.0</td>\n",
       "      <td>84.0</td>\n",
       "      <td>1200.0</td>\n",
       "    </tr>\n",
       "    <tr>\n",
       "      <th>3</th>\n",
       "      <td>1180</td>\n",
       "      <td>06-01-2022</td>\n",
       "      <td>08:53:00</td>\n",
       "      <td>85</td>\n",
       "      <td>Male</td>\n",
       "      <td>41.0</td>\n",
       "      <td>Clothing</td>\n",
       "      <td>3.0</td>\n",
       "      <td>300.0</td>\n",
       "      <td>129.0</td>\n",
       "      <td>900.0</td>\n",
       "    </tr>\n",
       "    <tr>\n",
       "      <th>4</th>\n",
       "      <td>1522</td>\n",
       "      <td>14-11-2022</td>\n",
       "      <td>08:35:00</td>\n",
       "      <td>48</td>\n",
       "      <td>Male</td>\n",
       "      <td>46.0</td>\n",
       "      <td>Beauty</td>\n",
       "      <td>3.0</td>\n",
       "      <td>500.0</td>\n",
       "      <td>235.0</td>\n",
       "      <td>1500.0</td>\n",
       "    </tr>\n",
       "  </tbody>\n",
       "</table>\n",
       "</div>"
      ],
      "text/plain": [
       "   transactions_id   sale_date sale_time  customer_id  gender   age  category  \\\n",
       "0              180  05-11-2022  10:47:00          117    Male  41.0  Clothing   \n",
       "1              522  09-07-2022  11:00:00           52    Male  46.0    Beauty   \n",
       "2              559  12-12-2022  10:48:00            5  Female  40.0  Clothing   \n",
       "3             1180  06-01-2022  08:53:00           85    Male  41.0  Clothing   \n",
       "4             1522  14-11-2022  08:35:00           48    Male  46.0    Beauty   \n",
       "\n",
       "   quantiy  price_per_unit   cogs  total_sale  \n",
       "0      3.0           300.0  129.0       900.0  \n",
       "1      3.0           500.0  145.0      1500.0  \n",
       "2      4.0           300.0   84.0      1200.0  \n",
       "3      3.0           300.0  129.0       900.0  \n",
       "4      3.0           500.0  235.0      1500.0  "
      ]
     },
     "execution_count": 3,
     "metadata": {},
     "output_type": "execute_result"
    }
   ],
   "source": [
    "df.head()"
   ]
  },
  {
   "cell_type": "code",
   "execution_count": 4,
   "id": "79b76951",
   "metadata": {},
   "outputs": [
    {
     "data": {
      "text/plain": [
       "['transactions_id',\n",
       " 'customer_id',\n",
       " 'age',\n",
       " 'quantiy',\n",
       " 'price_per_unit',\n",
       " 'cogs',\n",
       " 'total_sale']"
      ]
     },
     "execution_count": 4,
     "metadata": {},
     "output_type": "execute_result"
    }
   ],
   "source": [
    "df.select_dtypes(include='number').columns.to_list()"
   ]
  },
  {
   "cell_type": "code",
   "execution_count": 7,
   "id": "4cb256d1",
   "metadata": {},
   "outputs": [],
   "source": [
    "from Retail.utils.main_utils.utils import read_yaml_file\n",
    "\n",
    "from Retail.constant.training_pipeline import SCHEMA_FILE_PATH"
   ]
  },
  {
   "cell_type": "code",
   "execution_count": 8,
   "id": "09de765a",
   "metadata": {},
   "outputs": [],
   "source": [
    "schema_config = read_yaml_file(SCHEMA_FILE_PATH)"
   ]
  },
  {
   "cell_type": "code",
   "execution_count": null,
   "id": "2a1e2812",
   "metadata": {},
   "outputs": [],
   "source": []
  },
  {
   "cell_type": "code",
   "execution_count": null,
   "id": "f761b84e",
   "metadata": {},
   "outputs": [],
   "source": []
  },
  {
   "cell_type": "code",
   "execution_count": 15,
   "id": "d27c4227",
   "metadata": {},
   "outputs": [
    {
     "data": {
      "text/plain": [
       "{'transactions_id': 'int64',\n",
       " 'sale_date': 'object',\n",
       " 'sale_time': 'object',\n",
       " 'customer_id': 'int64',\n",
       " 'gender': 'object',\n",
       " 'age': 'float64',\n",
       " 'category': 'object',\n",
       " 'quantiy': 'float64',\n",
       " 'price_per_unit': 'float64',\n",
       " 'cogs': 'float64',\n",
       " 'total_sale': 'float64'}"
      ]
     },
     "execution_count": 15,
     "metadata": {},
     "output_type": "execute_result"
    }
   ],
   "source": [
    "schema_dict = {}\n",
    "for i in df.columns:\n",
    "    feature = i\n",
    "    type_of_feature  = df[i].dtype.name\n",
    "    schema_dict[feature] = type_of_feature\n",
    "\n",
    "schema_dict"
   ]
  },
  {
   "cell_type": "code",
   "execution_count": 36,
   "id": "2c32c9dc",
   "metadata": {},
   "outputs": [
    {
     "data": {
      "text/plain": [
       "['transactions_id', 'customer_id']"
      ]
     },
     "execution_count": 36,
     "metadata": {},
     "output_type": "execute_result"
    }
   ],
   "source": [
    "df.select_dtypes('int','float').columns.to_list()"
   ]
  },
  {
   "cell_type": "code",
   "execution_count": 41,
   "id": "0cb6c73b",
   "metadata": {},
   "outputs": [
    {
     "name": "stdout",
     "output_type": "stream",
     "text": [
      "- transactions_id,\n",
      "- customer_id,\n",
      "- age,\n",
      "- quantiy,\n",
      "- price_per_unit,\n",
      "- cogs,\n",
      "- total_sale,\n"
     ]
    },
    {
     "data": {
      "text/plain": [
       "{}"
      ]
     },
     "execution_count": 41,
     "metadata": {},
     "output_type": "execute_result"
    }
   ],
   "source": [
    "schema_dict = {}\n",
    "for i in df.columns:\n",
    "    dtype_df = df[i].dtype.name\n",
    "    if 'int'  in dtype_df or 'float' in dtype_df: \n",
    "        print(f'- {i},')\n",
    "    else:\n",
    "        pass\n",
    "\n",
    "schema_dict"
   ]
  },
  {
   "cell_type": "code",
   "execution_count": 17,
   "id": "74cf5bb8",
   "metadata": {},
   "outputs": [
    {
     "name": "stdout",
     "output_type": "stream",
     "text": [
      "connection is successful\n"
     ]
    }
   ],
   "source": [
    "load_dotenv()\n",
    "MONGO_URL = os.getenv(\"uri\")\n",
    "client = pymongo.MongoClient(MONGO_URL,    serverSelectionTimeoutMS=60000,  # 60s for server selection\n",
    "    connectTimeoutMS=60000,          # 60s for connection\n",
    "    socketTimeoutMS=600000 )\n",
    "\n",
    "try:\n",
    "    client.admin.command(\"ping\")\n",
    "    print(\"connection is successful\")\n",
    "except Exception as e:\n",
    "    print(e)"
   ]
  },
  {
   "cell_type": "code",
   "execution_count": 29,
   "id": "2d1a044f",
   "metadata": {},
   "outputs": [],
   "source": [
    "#client1 = pymongo.MongoClient('uri')\n",
    "db = client['CSV_FILE']\n",
    "collection = db['Session 2']"
   ]
  },
  {
   "cell_type": "code",
   "execution_count": 30,
   "id": "2683d11b",
   "metadata": {},
   "outputs": [
    {
     "data": {
      "text/plain": [
       "2000"
      ]
     },
     "execution_count": 30,
     "metadata": {},
     "output_type": "execute_result"
    }
   ],
   "source": [
    "mognodbData = list(collection.find())\n",
    "\n",
    "len(mognodbData)"
   ]
  },
  {
   "cell_type": "code",
   "execution_count": 31,
   "id": "9a1d03a7",
   "metadata": {},
   "outputs": [],
   "source": [
    "df = pd.DataFrame(list(collection.find()))"
   ]
  },
  {
   "cell_type": "code",
   "execution_count": 32,
   "id": "d496736b",
   "metadata": {},
   "outputs": [
    {
     "data": {
      "text/html": [
       "<div>\n",
       "<style scoped>\n",
       "    .dataframe tbody tr th:only-of-type {\n",
       "        vertical-align: middle;\n",
       "    }\n",
       "\n",
       "    .dataframe tbody tr th {\n",
       "        vertical-align: top;\n",
       "    }\n",
       "\n",
       "    .dataframe thead th {\n",
       "        text-align: right;\n",
       "    }\n",
       "</style>\n",
       "<table border=\"1\" class=\"dataframe\">\n",
       "  <thead>\n",
       "    <tr style=\"text-align: right;\">\n",
       "      <th></th>\n",
       "      <th>_id</th>\n",
       "      <th>index</th>\n",
       "      <th>transactions_id</th>\n",
       "      <th>sale_date</th>\n",
       "      <th>sale_time</th>\n",
       "      <th>customer_id</th>\n",
       "      <th>gender</th>\n",
       "      <th>age</th>\n",
       "      <th>category</th>\n",
       "      <th>quantiy</th>\n",
       "      <th>price_per_unit</th>\n",
       "      <th>cogs</th>\n",
       "      <th>total_sale</th>\n",
       "    </tr>\n",
       "  </thead>\n",
       "  <tbody>\n",
       "    <tr>\n",
       "      <th>0</th>\n",
       "      <td>68d384423540c75c99fb6a39</td>\n",
       "      <td>4</td>\n",
       "      <td>1522</td>\n",
       "      <td>14-11-2022</td>\n",
       "      <td>08:35:00</td>\n",
       "      <td>48</td>\n",
       "      <td>Male</td>\n",
       "      <td>46.0</td>\n",
       "      <td>Beauty</td>\n",
       "      <td>3.0</td>\n",
       "      <td>500.0</td>\n",
       "      <td>235.00</td>\n",
       "      <td>1500.0</td>\n",
       "    </tr>\n",
       "    <tr>\n",
       "      <th>1</th>\n",
       "      <td>68d384423540c75c99fb6a40</td>\n",
       "      <td>11</td>\n",
       "      <td>1303</td>\n",
       "      <td>19-03-2022</td>\n",
       "      <td>08:59:00</td>\n",
       "      <td>58</td>\n",
       "      <td>Male</td>\n",
       "      <td>19.0</td>\n",
       "      <td>Electronics</td>\n",
       "      <td>3.0</td>\n",
       "      <td>30.0</td>\n",
       "      <td>15.00</td>\n",
       "      <td>90.0</td>\n",
       "    </tr>\n",
       "    <tr>\n",
       "      <th>2</th>\n",
       "      <td>68d384423540c75c99fb6a49</td>\n",
       "      <td>20</td>\n",
       "      <td>1231</td>\n",
       "      <td>29-01-2022</td>\n",
       "      <td>07:05:00</td>\n",
       "      <td>12</td>\n",
       "      <td>Female</td>\n",
       "      <td>23.0</td>\n",
       "      <td>Clothing</td>\n",
       "      <td>3.0</td>\n",
       "      <td>50.0</td>\n",
       "      <td>23.00</td>\n",
       "      <td>150.0</td>\n",
       "    </tr>\n",
       "    <tr>\n",
       "      <th>3</th>\n",
       "      <td>68d384423540c75c99fb6a5d</td>\n",
       "      <td>40</td>\n",
       "      <td>860</td>\n",
       "      <td>11-04-2022</td>\n",
       "      <td>08:58:00</td>\n",
       "      <td>85</td>\n",
       "      <td>Male</td>\n",
       "      <td>63.0</td>\n",
       "      <td>Clothing</td>\n",
       "      <td>4.0</td>\n",
       "      <td>50.0</td>\n",
       "      <td>16.00</td>\n",
       "      <td>200.0</td>\n",
       "    </tr>\n",
       "    <tr>\n",
       "      <th>4</th>\n",
       "      <td>68d384423540c75c99fb6a63</td>\n",
       "      <td>46</td>\n",
       "      <td>225</td>\n",
       "      <td>05-03-2022</td>\n",
       "      <td>07:37:00</td>\n",
       "      <td>85</td>\n",
       "      <td>Female</td>\n",
       "      <td>57.0</td>\n",
       "      <td>Beauty</td>\n",
       "      <td>4.0</td>\n",
       "      <td>25.0</td>\n",
       "      <td>12.75</td>\n",
       "      <td>100.0</td>\n",
       "    </tr>\n",
       "  </tbody>\n",
       "</table>\n",
       "</div>"
      ],
      "text/plain": [
       "                        _id  index  transactions_id   sale_date sale_time  \\\n",
       "0  68d384423540c75c99fb6a39      4             1522  14-11-2022  08:35:00   \n",
       "1  68d384423540c75c99fb6a40     11             1303  19-03-2022  08:59:00   \n",
       "2  68d384423540c75c99fb6a49     20             1231  29-01-2022  07:05:00   \n",
       "3  68d384423540c75c99fb6a5d     40              860  11-04-2022  08:58:00   \n",
       "4  68d384423540c75c99fb6a63     46              225  05-03-2022  07:37:00   \n",
       "\n",
       "   customer_id  gender   age     category  quantiy  price_per_unit    cogs  \\\n",
       "0           48    Male  46.0       Beauty      3.0           500.0  235.00   \n",
       "1           58    Male  19.0  Electronics      3.0            30.0   15.00   \n",
       "2           12  Female  23.0     Clothing      3.0            50.0   23.00   \n",
       "3           85    Male  63.0     Clothing      4.0            50.0   16.00   \n",
       "4           85  Female  57.0       Beauty      4.0            25.0   12.75   \n",
       "\n",
       "   total_sale  \n",
       "0      1500.0  \n",
       "1        90.0  \n",
       "2       150.0  \n",
       "3       200.0  \n",
       "4       100.0  "
      ]
     },
     "execution_count": 32,
     "metadata": {},
     "output_type": "execute_result"
    }
   ],
   "source": [
    "df.head()"
   ]
  },
  {
   "cell_type": "code",
   "execution_count": 33,
   "id": "d7ac66cc",
   "metadata": {},
   "outputs": [],
   "source": [
    "df = pd.DataFrame(list(collection.find()))"
   ]
  },
  {
   "cell_type": "code",
   "execution_count": 35,
   "id": "7b77de06",
   "metadata": {},
   "outputs": [],
   "source": [
    "collection1 = client['CSV_FILE'][\"Session 2\"]\n"
   ]
  },
  {
   "cell_type": "code",
   "execution_count": 36,
   "id": "50e0eace",
   "metadata": {},
   "outputs": [
    {
     "data": {
      "text/plain": [
       "{'_id': ObjectId('68d384423540c75c99fb6a39'),\n",
       " 'index': 4,\n",
       " 'transactions_id': 1522,\n",
       " 'sale_date': '14-11-2022',\n",
       " 'sale_time': '08:35:00',\n",
       " 'customer_id': 48,\n",
       " 'gender': 'Male',\n",
       " 'age': 46.0,\n",
       " 'category': 'Beauty',\n",
       " 'quantiy': 3.0,\n",
       " 'price_per_unit': 500.0,\n",
       " 'cogs': 235.0,\n",
       " 'total_sale': 1500.0}"
      ]
     },
     "execution_count": 36,
     "metadata": {},
     "output_type": "execute_result"
    }
   ],
   "source": [
    "collection1.find_one()"
   ]
  },
  {
   "cell_type": "code",
   "execution_count": 52,
   "id": "01a31f61",
   "metadata": {},
   "outputs": [
    {
     "data": {
      "text/plain": [
       "InsertOneResult(ObjectId('68d27a397521d3d5177d1938'), acknowledged=True)"
      ]
     },
     "execution_count": 52,
     "metadata": {},
     "output_type": "execute_result"
    }
   ],
   "source": [
    "db = client['session1']\n",
    "collection = db['mysamplecollectionforravi']\n",
    "dictionary_1 = {'Namme':\"Ravi Garlay\",\"Age\":23}\n",
    "collection.insert_one(dictionary_1)"
   ]
  },
  {
   "cell_type": "code",
   "execution_count": 1,
   "id": "4ca29101",
   "metadata": {},
   "outputs": [
    {
     "ename": "NameError",
     "evalue": "name 'client' is not defined",
     "output_type": "error",
     "traceback": [
      "\u001b[1;31m---------------------------------------------------------------------------\u001b[0m",
      "\u001b[1;31mNameError\u001b[0m                                 Traceback (most recent call last)",
      "\u001b[1;32m~\\AppData\\Local\\Temp\\ipykernel_25752\\2101948617.py\u001b[0m in \u001b[0;36m<module>\u001b[1;34m\u001b[0m\n\u001b[1;32m----> 1\u001b[1;33m \u001b[0mdatabase\u001b[0m \u001b[1;33m=\u001b[0m \u001b[0mclient\u001b[0m\u001b[1;33m[\u001b[0m\u001b[1;34m'CSV_FILE'\u001b[0m\u001b[1;33m]\u001b[0m\u001b[1;33m\u001b[0m\u001b[1;33m\u001b[0m\u001b[0m\n\u001b[0m\u001b[0;32m      2\u001b[0m \u001b[0mcollection\u001b[0m \u001b[1;33m=\u001b[0m \u001b[0mdatabase\u001b[0m\u001b[1;33m[\u001b[0m\u001b[1;34m'Session 2'\u001b[0m\u001b[1;33m]\u001b[0m\u001b[1;33m\u001b[0m\u001b[1;33m\u001b[0m\u001b[0m\n",
      "\u001b[1;31mNameError\u001b[0m: name 'client' is not defined"
     ]
    }
   ],
   "source": [
    "database = client['CSV_FILE']\n",
    "collection = database['Session 2']"
   ]
  },
  {
   "cell_type": "code",
   "execution_count": 10,
   "id": "96f5a61f",
   "metadata": {},
   "outputs": [
    {
     "data": {
      "text/plain": [
       "<bound method Collection.list_indexes of Collection(Database(MongoClient(host=['uri:27017'], document_class=dict, tz_aware=False, connect=True), 'CSV_FILE'), 'Session 2')>"
      ]
     },
     "execution_count": 10,
     "metadata": {},
     "output_type": "execute_result"
    }
   ],
   "source": [
    "collection.list_indexes"
   ]
  },
  {
   "cell_type": "code",
   "execution_count": 7,
   "id": "aa3ade12",
   "metadata": {},
   "outputs": [
    {
     "data": {
      "text/plain": [
       "['_id',\n",
       " 'index',\n",
       " 'transactions_id',\n",
       " 'sale_date',\n",
       " 'sale_time',\n",
       " 'customer_id',\n",
       " 'gender',\n",
       " 'age',\n",
       " 'category',\n",
       " 'quantiy',\n",
       " 'price_per_unit',\n",
       " 'cogs',\n",
       " 'total_sale']"
      ]
     },
     "execution_count": 7,
     "metadata": {},
     "output_type": "execute_result"
    }
   ],
   "source": [
    "for doc in collection.find():\n",
    "        a = list(doc.keys())\n",
    "a"
   ]
  },
  {
   "cell_type": "code",
   "execution_count": 61,
   "id": "9e6dcfed",
   "metadata": {},
   "outputs": [
    {
     "name": "stdout",
     "output_type": "stream",
     "text": [
      "    transactions_id   sale_date sale_time customer_id  gender   age  \\\n",
      "300            1272  14-04-2022  11:59:00          66  Female  61.0   \n",
      "\n",
      "        category quantiy price_per_unit  cogs total_sale  \n",
      "300  Electronics     2.0           50.0  17.0      100.0  \n"
     ]
    }
   ],
   "source": [
    "for doc in collection.find():\n",
    "        a = list(doc.keys())\n",
    "a = pd.DataFrame(columns=a)\n",
    "a.drop(columns=['_id','index'],inplace=True)\n",
    "for doc in collection.find():\n",
    "        a1 = doc\n",
    "        a1.pop('_id')\n",
    "        a1.pop('index')\n",
    "        a1_values = list(a1.values())\n",
    "        a.loc[len(a)] = a1_values\n",
    "print(a.sample())"
   ]
  },
  {
   "cell_type": "code",
   "execution_count": null,
   "id": "3127ddf9",
   "metadata": {},
   "outputs": [
    {
     "name": "stdout",
     "output_type": "stream",
     "text": [
      "     transactions_id   sale_date sale_time customer_id  gender   age category  \\\n",
      "1387            1935  16-12-2022  22:40:00          96  Female  34.0   Beauty   \n",
      "\n",
      "     quantiy price_per_unit  cogs total_sale  \n",
      "1387     1.0           50.0  47.5       50.0  \n"
     ]
    }
   ],
   "source": [
    "for doc in collection.find():\n",
    "        a1 = doc\n",
    "        a1.pop('_id')\n",
    "        a1.pop('index')\n",
    "        a1_values = list(a1.values())\n",
    "        df.loc[len(df)] = a1_values"
   ]
  },
  {
   "cell_type": "code",
   "execution_count": 54,
   "id": "9cf9e15f",
   "metadata": {},
   "outputs": [
    {
     "data": {
      "text/plain": [
       "DeleteResult({'n': 1, 'electionId': ObjectId('7fffffff00000000000000bb'), 'opTime': {'ts': Timestamp(1758624315, 4), 't': 187}, 'ok': 1.0, '$clusterTime': {'clusterTime': Timestamp(1758624315, 4), 'signature': {'hash': b';\\xfdNuzEK\\x95\\x85\\xb0\\x92\\xc3\\x82\\x8f\\xe7\\x1d_cD\\x0f', 'keyId': 7504702214359744518}}, 'operationTime': Timestamp(1758624315, 4)}, acknowledged=True)"
      ]
     },
     "execution_count": 54,
     "metadata": {},
     "output_type": "execute_result"
    }
   ],
   "source": [
    "collection.delete_one({\"Namme\":\"Ravi Garlay\"})"
   ]
  },
  {
   "cell_type": "code",
   "execution_count": 55,
   "id": "51f9b2fc",
   "metadata": {},
   "outputs": [],
   "source": [
    "for doc in collection.find():\n",
    "    print(doc)"
   ]
  },
  {
   "cell_type": "code",
   "execution_count": 58,
   "id": "c809fbdc",
   "metadata": {},
   "outputs": [],
   "source": [
    "documents_11 = [\n",
    "    {\"Name\": \"Ravi\", \"Age\": 23, \"Hobby\": \"Reading\", \"City\": \"Delhi\"},\n",
    "    {\"Name\": \"Anita\", \"Age\": 25, \"Hobby\": \"Music\", \"City\": \"Mumbai\"},\n",
    "    {\"Name\": \"Sahil\", \"Age\": 22, \"Hobby\": \"Movies\", \"City\": \"Chandigarh\"},\n",
    "    {\"Name\": \"Priya\", \"Age\": 24, \"Hobby\": \"Traveling\", \"City\": \"Guwahati\"},\n",
    "    {\"Name\": \"Arjun\", \"Age\": 26, \"Hobby\": \"Cooking\", \"City\": \"Bangalore\"}\n",
    "]"
   ]
  },
  {
   "cell_type": "code",
   "execution_count": 59,
   "id": "f77b849a",
   "metadata": {},
   "outputs": [
    {
     "data": {
      "text/plain": [
       "InsertManyResult([ObjectId('68d27ac17521d3d5177d1939'), ObjectId('68d27ac17521d3d5177d193a'), ObjectId('68d27ac17521d3d5177d193b'), ObjectId('68d27ac17521d3d5177d193c'), ObjectId('68d27ac17521d3d5177d193d')], acknowledged=True)"
      ]
     },
     "execution_count": 59,
     "metadata": {},
     "output_type": "execute_result"
    }
   ],
   "source": [
    "collection.insert_many(documents_11)"
   ]
  },
  {
   "cell_type": "code",
   "execution_count": null,
   "id": "49ba4c02",
   "metadata": {},
   "outputs": [],
   "source": []
  },
  {
   "cell_type": "code",
   "execution_count": 60,
   "id": "76e67692",
   "metadata": {},
   "outputs": [
    {
     "name": "stdout",
     "output_type": "stream",
     "text": [
      "{'_id': ObjectId('68d27ac17521d3d5177d1939'), 'Name': 'Ravi', 'Age': 23, 'Hobby': 'Reading', 'City': 'Delhi'}\n",
      "{'_id': ObjectId('68d27ac17521d3d5177d193a'), 'Name': 'Anita', 'Age': 25, 'Hobby': 'Music', 'City': 'Mumbai'}\n",
      "{'_id': ObjectId('68d27ac17521d3d5177d193b'), 'Name': 'Sahil', 'Age': 22, 'Hobby': 'Movies', 'City': 'Chandigarh'}\n",
      "{'_id': ObjectId('68d27ac17521d3d5177d193c'), 'Name': 'Priya', 'Age': 24, 'Hobby': 'Traveling', 'City': 'Guwahati'}\n",
      "{'_id': ObjectId('68d27ac17521d3d5177d193d'), 'Name': 'Arjun', 'Age': 26, 'Hobby': 'Cooking', 'City': 'Bangalore'}\n"
     ]
    }
   ],
   "source": [
    "for item in collection.find():\n",
    "    print(item)"
   ]
  },
  {
   "cell_type": "code",
   "execution_count": 63,
   "id": "3c96a381",
   "metadata": {},
   "outputs": [
    {
     "data": {
      "text/plain": [
       "{'_id': ObjectId('68d27ac17521d3d5177d1939'),\n",
       " 'Name': 'Ravi',\n",
       " 'Age': 23,\n",
       " 'Hobby': 'Reading'}"
      ]
     },
     "execution_count": 63,
     "metadata": {},
     "output_type": "execute_result"
    }
   ],
   "source": [
    "collection.find_one({\"Name\":\"Ravi\"},{\"City\":0, \"id\":0})"
   ]
  },
  {
   "cell_type": "code",
   "execution_count": 64,
   "id": "f076f756",
   "metadata": {},
   "outputs": [
    {
     "name": "stdout",
     "output_type": "stream",
     "text": [
      "['sample_mflix', 'session1', 'admin', 'local']\n"
     ]
    }
   ],
   "source": [
    "Alldatabases = client.list_database_names()\n",
    "print(Alldatabases)"
   ]
  },
  {
   "cell_type": "code",
   "execution_count": 65,
   "id": "269760fb",
   "metadata": {},
   "outputs": [
    {
     "name": "stdout",
     "output_type": "stream",
     "text": [
      "['mysamplecollectionforravi']\n"
     ]
    }
   ],
   "source": [
    "AllconnectionNames=db.list_collection_names()\n",
    "\n",
    "print(AllconnectionNames)"
   ]
  },
  {
   "cell_type": "code",
   "execution_count": 2,
   "id": "1e28fbe3",
   "metadata": {},
   "outputs": [
    {
     "ename": "NameError",
     "evalue": "name 'database' is not defined",
     "output_type": "error",
     "traceback": [
      "\u001b[1;31m---------------------------------------------------------------------------\u001b[0m",
      "\u001b[1;31mNameError\u001b[0m                                 Traceback (most recent call last)",
      "\u001b[1;32m~\\AppData\\Local\\Temp\\ipykernel_15748\\1121890063.py\u001b[0m in \u001b[0;36m<module>\u001b[1;34m\u001b[0m\n\u001b[1;32m----> 1\u001b[1;33m \u001b[0mdatabase\u001b[0m\u001b[1;33m.\u001b[0m\u001b[0mlist_collection_names\u001b[0m\u001b[1;33m(\u001b[0m\u001b[1;33m)\u001b[0m\u001b[1;33m\u001b[0m\u001b[1;33m\u001b[0m\u001b[0m\n\u001b[0m",
      "\u001b[1;31mNameError\u001b[0m: name 'database' is not defined"
     ]
    }
   ],
   "source": [
    "database.list_collection_names()"
   ]
  },
  {
   "cell_type": "code",
   "execution_count": 66,
   "id": "01ab4c54",
   "metadata": {},
   "outputs": [
    {
     "data": {
      "text/html": [
       "<div>\n",
       "<style scoped>\n",
       "    .dataframe tbody tr th:only-of-type {\n",
       "        vertical-align: middle;\n",
       "    }\n",
       "\n",
       "    .dataframe tbody tr th {\n",
       "        vertical-align: top;\n",
       "    }\n",
       "\n",
       "    .dataframe thead th {\n",
       "        text-align: right;\n",
       "    }\n",
       "</style>\n",
       "<table border=\"1\" class=\"dataframe\">\n",
       "  <thead>\n",
       "    <tr style=\"text-align: right;\">\n",
       "      <th></th>\n",
       "      <th>transactions_id</th>\n",
       "      <th>sale_date</th>\n",
       "      <th>sale_time</th>\n",
       "      <th>customer_id</th>\n",
       "      <th>gender</th>\n",
       "      <th>age</th>\n",
       "      <th>category</th>\n",
       "      <th>quantiy</th>\n",
       "      <th>price_per_unit</th>\n",
       "      <th>cogs</th>\n",
       "      <th>total_sale</th>\n",
       "    </tr>\n",
       "  </thead>\n",
       "  <tbody>\n",
       "    <tr>\n",
       "      <th>0</th>\n",
       "      <td>180</td>\n",
       "      <td>2022-11-05</td>\n",
       "      <td>10:47:00</td>\n",
       "      <td>117</td>\n",
       "      <td>Male</td>\n",
       "      <td>41.0</td>\n",
       "      <td>Clothing</td>\n",
       "      <td>3.0</td>\n",
       "      <td>300.0</td>\n",
       "      <td>129.0</td>\n",
       "      <td>900.0</td>\n",
       "    </tr>\n",
       "    <tr>\n",
       "      <th>1</th>\n",
       "      <td>522</td>\n",
       "      <td>2022-07-09</td>\n",
       "      <td>11:00:00</td>\n",
       "      <td>52</td>\n",
       "      <td>Male</td>\n",
       "      <td>46.0</td>\n",
       "      <td>Beauty</td>\n",
       "      <td>3.0</td>\n",
       "      <td>500.0</td>\n",
       "      <td>145.0</td>\n",
       "      <td>1500.0</td>\n",
       "    </tr>\n",
       "    <tr>\n",
       "      <th>2</th>\n",
       "      <td>559</td>\n",
       "      <td>2022-12-12</td>\n",
       "      <td>10:48:00</td>\n",
       "      <td>5</td>\n",
       "      <td>Female</td>\n",
       "      <td>40.0</td>\n",
       "      <td>Clothing</td>\n",
       "      <td>4.0</td>\n",
       "      <td>300.0</td>\n",
       "      <td>84.0</td>\n",
       "      <td>1200.0</td>\n",
       "    </tr>\n",
       "    <tr>\n",
       "      <th>3</th>\n",
       "      <td>1180</td>\n",
       "      <td>2022-01-06</td>\n",
       "      <td>08:53:00</td>\n",
       "      <td>85</td>\n",
       "      <td>Male</td>\n",
       "      <td>41.0</td>\n",
       "      <td>Clothing</td>\n",
       "      <td>3.0</td>\n",
       "      <td>300.0</td>\n",
       "      <td>129.0</td>\n",
       "      <td>900.0</td>\n",
       "    </tr>\n",
       "    <tr>\n",
       "      <th>4</th>\n",
       "      <td>1522</td>\n",
       "      <td>2022-11-14</td>\n",
       "      <td>08:35:00</td>\n",
       "      <td>48</td>\n",
       "      <td>Male</td>\n",
       "      <td>46.0</td>\n",
       "      <td>Beauty</td>\n",
       "      <td>3.0</td>\n",
       "      <td>500.0</td>\n",
       "      <td>235.0</td>\n",
       "      <td>1500.0</td>\n",
       "    </tr>\n",
       "  </tbody>\n",
       "</table>\n",
       "</div>"
      ],
      "text/plain": [
       "   transactions_id   sale_date sale_time  customer_id  gender   age  category  \\\n",
       "0              180  2022-11-05  10:47:00          117    Male  41.0  Clothing   \n",
       "1              522  2022-07-09  11:00:00           52    Male  46.0    Beauty   \n",
       "2              559  2022-12-12  10:48:00            5  Female  40.0  Clothing   \n",
       "3             1180  2022-01-06  08:53:00           85    Male  41.0  Clothing   \n",
       "4             1522  2022-11-14  08:35:00           48    Male  46.0    Beauty   \n",
       "\n",
       "   quantiy  price_per_unit   cogs  total_sale  \n",
       "0      3.0           300.0  129.0       900.0  \n",
       "1      3.0           500.0  145.0      1500.0  \n",
       "2      4.0           300.0   84.0      1200.0  \n",
       "3      3.0           300.0  129.0       900.0  \n",
       "4      3.0           500.0  235.0      1500.0  "
      ]
     },
     "execution_count": 66,
     "metadata": {},
     "output_type": "execute_result"
    }
   ],
   "source": [
    "df.head()"
   ]
  },
  {
   "cell_type": "code",
   "execution_count": 67,
   "id": "ed6df106",
   "metadata": {},
   "outputs": [
    {
     "data": {
      "text/plain": [
       "22000"
      ]
     },
     "execution_count": 67,
     "metadata": {},
     "output_type": "execute_result"
    }
   ],
   "source": [
    "df.size"
   ]
  },
  {
   "cell_type": "code",
   "execution_count": 75,
   "id": "15ab6a03",
   "metadata": {},
   "outputs": [],
   "source": [
    "df_headers = df.columns"
   ]
  },
  {
   "cell_type": "code",
   "execution_count": 76,
   "id": "efcdc0c2",
   "metadata": {},
   "outputs": [
    {
     "data": {
      "text/plain": [
       "Index(['transactions_id', 'sale_date', 'sale_time', 'customer_id', 'gender',\n",
       "       'age', 'category', 'quantiy', 'price_per_unit', 'cogs', 'total_sale'],\n",
       "      dtype='object')"
      ]
     },
     "execution_count": 76,
     "metadata": {},
     "output_type": "execute_result"
    }
   ],
   "source": [
    "df_headers"
   ]
  },
  {
   "cell_type": "code",
   "execution_count": 80,
   "id": "c00e2783",
   "metadata": {},
   "outputs": [],
   "source": [
    "import json"
   ]
  },
  {
   "cell_type": "code",
   "execution_count": 83,
   "id": "2f13427f",
   "metadata": {},
   "outputs": [],
   "source": [
    "df = df.reset_index()"
   ]
  },
  {
   "cell_type": "markdown",
   "id": "78285f0c",
   "metadata": {},
   "source": [
    "df.T → transposes the DataFrame, swapping rows and columns.\n",
    "\n",
    ".to_json() → converts the transposed DataFrame into a JSON string.\n",
    "\n",
    "json.loads(...) → parses the JSON string into a Python dictionary.\n",
    "\n",
    ".values() → extracts all dictionary values, ignoring the keys.\n",
    "\n",
    "list(...) → converts the dict values into a list of dictionaries, one per original row."
   ]
  },
  {
   "cell_type": "code",
   "execution_count": null,
   "id": "b1a2d2a6",
   "metadata": {},
   "outputs": [],
   "source": [
    "records = list(json.loads(df.T.to_json()).values())\n"
   ]
  },
  {
   "cell_type": "code",
   "execution_count": 88,
   "id": "a4f05f06",
   "metadata": {},
   "outputs": [
    {
     "data": {
      "text/plain": [
       "InsertManyResult([ObjectId('68d27f837521d3d5177d193e'), ObjectId('68d27f837521d3d5177d193f'), ObjectId('68d27f837521d3d5177d1940'), ObjectId('68d27f837521d3d5177d1941'), ObjectId('68d27f837521d3d5177d1942'), ObjectId('68d27f837521d3d5177d1943'), ObjectId('68d27f837521d3d5177d1944'), ObjectId('68d27f837521d3d5177d1945'), ObjectId('68d27f837521d3d5177d1946'), ObjectId('68d27f837521d3d5177d1947'), ObjectId('68d27f837521d3d5177d1948'), ObjectId('68d27f837521d3d5177d1949'), ObjectId('68d27f837521d3d5177d194a'), ObjectId('68d27f837521d3d5177d194b'), ObjectId('68d27f837521d3d5177d194c'), ObjectId('68d27f837521d3d5177d194d'), ObjectId('68d27f837521d3d5177d194e'), ObjectId('68d27f837521d3d5177d194f'), ObjectId('68d27f837521d3d5177d1950'), ObjectId('68d27f837521d3d5177d1951'), ObjectId('68d27f837521d3d5177d1952'), ObjectId('68d27f837521d3d5177d1953'), ObjectId('68d27f837521d3d5177d1954'), ObjectId('68d27f837521d3d5177d1955'), ObjectId('68d27f837521d3d5177d1956'), ObjectId('68d27f837521d3d5177d1957'), ObjectId('68d27f837521d3d5177d1958'), ObjectId('68d27f837521d3d5177d1959'), ObjectId('68d27f837521d3d5177d195a'), ObjectId('68d27f837521d3d5177d195b'), ObjectId('68d27f837521d3d5177d195c'), ObjectId('68d27f837521d3d5177d195d'), ObjectId('68d27f837521d3d5177d195e'), ObjectId('68d27f837521d3d5177d195f'), ObjectId('68d27f837521d3d5177d1960'), ObjectId('68d27f837521d3d5177d1961'), ObjectId('68d27f837521d3d5177d1962'), ObjectId('68d27f837521d3d5177d1963'), ObjectId('68d27f837521d3d5177d1964'), ObjectId('68d27f837521d3d5177d1965'), ObjectId('68d27f837521d3d5177d1966'), ObjectId('68d27f837521d3d5177d1967'), ObjectId('68d27f837521d3d5177d1968'), ObjectId('68d27f837521d3d5177d1969'), ObjectId('68d27f837521d3d5177d196a'), ObjectId('68d27f837521d3d5177d196b'), ObjectId('68d27f837521d3d5177d196c'), ObjectId('68d27f837521d3d5177d196d'), ObjectId('68d27f837521d3d5177d196e'), ObjectId('68d27f837521d3d5177d196f'), ObjectId('68d27f837521d3d5177d1970'), ObjectId('68d27f837521d3d5177d1971'), ObjectId('68d27f837521d3d5177d1972'), ObjectId('68d27f837521d3d5177d1973'), ObjectId('68d27f837521d3d5177d1974'), ObjectId('68d27f837521d3d5177d1975'), ObjectId('68d27f837521d3d5177d1976'), ObjectId('68d27f837521d3d5177d1977'), ObjectId('68d27f837521d3d5177d1978'), ObjectId('68d27f837521d3d5177d1979'), ObjectId('68d27f837521d3d5177d197a'), ObjectId('68d27f837521d3d5177d197b'), ObjectId('68d27f837521d3d5177d197c'), ObjectId('68d27f837521d3d5177d197d'), ObjectId('68d27f837521d3d5177d197e'), ObjectId('68d27f837521d3d5177d197f'), ObjectId('68d27f837521d3d5177d1980'), ObjectId('68d27f837521d3d5177d1981'), ObjectId('68d27f837521d3d5177d1982'), ObjectId('68d27f837521d3d5177d1983'), ObjectId('68d27f837521d3d5177d1984'), ObjectId('68d27f837521d3d5177d1985'), ObjectId('68d27f837521d3d5177d1986'), ObjectId('68d27f837521d3d5177d1987'), ObjectId('68d27f837521d3d5177d1988'), ObjectId('68d27f837521d3d5177d1989'), ObjectId('68d27f837521d3d5177d198a'), ObjectId('68d27f837521d3d5177d198b'), ObjectId('68d27f837521d3d5177d198c'), ObjectId('68d27f837521d3d5177d198d'), ObjectId('68d27f837521d3d5177d198e'), ObjectId('68d27f837521d3d5177d198f'), ObjectId('68d27f837521d3d5177d1990'), ObjectId('68d27f837521d3d5177d1991'), ObjectId('68d27f837521d3d5177d1992'), ObjectId('68d27f837521d3d5177d1993'), ObjectId('68d27f837521d3d5177d1994'), ObjectId('68d27f837521d3d5177d1995'), ObjectId('68d27f837521d3d5177d1996'), ObjectId('68d27f837521d3d5177d1997'), ObjectId('68d27f837521d3d5177d1998'), ObjectId('68d27f837521d3d5177d1999'), ObjectId('68d27f837521d3d5177d199a'), ObjectId('68d27f837521d3d5177d199b'), ObjectId('68d27f837521d3d5177d199c'), ObjectId('68d27f837521d3d5177d199d'), ObjectId('68d27f837521d3d5177d199e'), ObjectId('68d27f837521d3d5177d199f'), ObjectId('68d27f837521d3d5177d19a0'), ObjectId('68d27f837521d3d5177d19a1'), ObjectId('68d27f837521d3d5177d19a2'), ObjectId('68d27f837521d3d5177d19a3'), ObjectId('68d27f837521d3d5177d19a4'), ObjectId('68d27f837521d3d5177d19a5'), ObjectId('68d27f837521d3d5177d19a6'), ObjectId('68d27f837521d3d5177d19a7'), ObjectId('68d27f837521d3d5177d19a8'), ObjectId('68d27f837521d3d5177d19a9'), ObjectId('68d27f837521d3d5177d19aa'), ObjectId('68d27f837521d3d5177d19ab'), ObjectId('68d27f837521d3d5177d19ac'), ObjectId('68d27f837521d3d5177d19ad'), ObjectId('68d27f837521d3d5177d19ae'), ObjectId('68d27f837521d3d5177d19af'), ObjectId('68d27f837521d3d5177d19b0'), ObjectId('68d27f837521d3d5177d19b1'), ObjectId('68d27f837521d3d5177d19b2'), ObjectId('68d27f837521d3d5177d19b3'), ObjectId('68d27f837521d3d5177d19b4'), ObjectId('68d27f837521d3d5177d19b5'), ObjectId('68d27f837521d3d5177d19b6'), ObjectId('68d27f837521d3d5177d19b7'), ObjectId('68d27f837521d3d5177d19b8'), ObjectId('68d27f837521d3d5177d19b9'), ObjectId('68d27f837521d3d5177d19ba'), ObjectId('68d27f837521d3d5177d19bb'), ObjectId('68d27f837521d3d5177d19bc'), ObjectId('68d27f837521d3d5177d19bd'), ObjectId('68d27f837521d3d5177d19be'), ObjectId('68d27f837521d3d5177d19bf'), ObjectId('68d27f837521d3d5177d19c0'), ObjectId('68d27f837521d3d5177d19c1'), ObjectId('68d27f837521d3d5177d19c2'), ObjectId('68d27f837521d3d5177d19c3'), ObjectId('68d27f837521d3d5177d19c4'), ObjectId('68d27f837521d3d5177d19c5'), ObjectId('68d27f837521d3d5177d19c6'), ObjectId('68d27f837521d3d5177d19c7'), ObjectId('68d27f837521d3d5177d19c8'), ObjectId('68d27f837521d3d5177d19c9'), ObjectId('68d27f837521d3d5177d19ca'), ObjectId('68d27f837521d3d5177d19cb'), ObjectId('68d27f837521d3d5177d19cc'), ObjectId('68d27f837521d3d5177d19cd'), ObjectId('68d27f837521d3d5177d19ce'), ObjectId('68d27f837521d3d5177d19cf'), ObjectId('68d27f837521d3d5177d19d0'), ObjectId('68d27f837521d3d5177d19d1'), ObjectId('68d27f837521d3d5177d19d2'), ObjectId('68d27f837521d3d5177d19d3'), ObjectId('68d27f837521d3d5177d19d4'), ObjectId('68d27f837521d3d5177d19d5'), ObjectId('68d27f837521d3d5177d19d6'), ObjectId('68d27f837521d3d5177d19d7'), ObjectId('68d27f837521d3d5177d19d8'), ObjectId('68d27f837521d3d5177d19d9'), ObjectId('68d27f837521d3d5177d19da'), ObjectId('68d27f837521d3d5177d19db'), ObjectId('68d27f837521d3d5177d19dc'), ObjectId('68d27f837521d3d5177d19dd'), ObjectId('68d27f837521d3d5177d19de'), ObjectId('68d27f837521d3d5177d19df'), ObjectId('68d27f837521d3d5177d19e0'), ObjectId('68d27f837521d3d5177d19e1'), ObjectId('68d27f837521d3d5177d19e2'), ObjectId('68d27f837521d3d5177d19e3'), ObjectId('68d27f837521d3d5177d19e4'), ObjectId('68d27f837521d3d5177d19e5'), ObjectId('68d27f837521d3d5177d19e6'), ObjectId('68d27f837521d3d5177d19e7'), ObjectId('68d27f837521d3d5177d19e8'), ObjectId('68d27f837521d3d5177d19e9'), ObjectId('68d27f837521d3d5177d19ea'), ObjectId('68d27f837521d3d5177d19eb'), ObjectId('68d27f837521d3d5177d19ec'), ObjectId('68d27f837521d3d5177d19ed'), ObjectId('68d27f837521d3d5177d19ee'), ObjectId('68d27f837521d3d5177d19ef'), ObjectId('68d27f837521d3d5177d19f0'), ObjectId('68d27f837521d3d5177d19f1'), ObjectId('68d27f837521d3d5177d19f2'), ObjectId('68d27f837521d3d5177d19f3'), ObjectId('68d27f837521d3d5177d19f4'), ObjectId('68d27f837521d3d5177d19f5'), ObjectId('68d27f837521d3d5177d19f6'), ObjectId('68d27f837521d3d5177d19f7'), ObjectId('68d27f837521d3d5177d19f8'), ObjectId('68d27f837521d3d5177d19f9'), ObjectId('68d27f837521d3d5177d19fa'), ObjectId('68d27f837521d3d5177d19fb'), ObjectId('68d27f837521d3d5177d19fc'), ObjectId('68d27f837521d3d5177d19fd'), ObjectId('68d27f837521d3d5177d19fe'), ObjectId('68d27f837521d3d5177d19ff'), ObjectId('68d27f837521d3d5177d1a00'), ObjectId('68d27f837521d3d5177d1a01'), ObjectId('68d27f837521d3d5177d1a02'), ObjectId('68d27f837521d3d5177d1a03'), ObjectId('68d27f837521d3d5177d1a04'), ObjectId('68d27f837521d3d5177d1a05'), ObjectId('68d27f837521d3d5177d1a06'), ObjectId('68d27f837521d3d5177d1a07'), ObjectId('68d27f837521d3d5177d1a08'), ObjectId('68d27f837521d3d5177d1a09'), ObjectId('68d27f837521d3d5177d1a0a'), ObjectId('68d27f837521d3d5177d1a0b'), ObjectId('68d27f837521d3d5177d1a0c'), ObjectId('68d27f837521d3d5177d1a0d'), ObjectId('68d27f837521d3d5177d1a0e'), ObjectId('68d27f837521d3d5177d1a0f'), ObjectId('68d27f837521d3d5177d1a10'), ObjectId('68d27f837521d3d5177d1a11'), ObjectId('68d27f837521d3d5177d1a12'), ObjectId('68d27f837521d3d5177d1a13'), ObjectId('68d27f837521d3d5177d1a14'), ObjectId('68d27f837521d3d5177d1a15'), ObjectId('68d27f837521d3d5177d1a16'), ObjectId('68d27f837521d3d5177d1a17'), ObjectId('68d27f837521d3d5177d1a18'), ObjectId('68d27f837521d3d5177d1a19'), ObjectId('68d27f837521d3d5177d1a1a'), ObjectId('68d27f837521d3d5177d1a1b'), ObjectId('68d27f837521d3d5177d1a1c'), ObjectId('68d27f837521d3d5177d1a1d'), ObjectId('68d27f837521d3d5177d1a1e'), ObjectId('68d27f837521d3d5177d1a1f'), ObjectId('68d27f837521d3d5177d1a20'), ObjectId('68d27f837521d3d5177d1a21'), ObjectId('68d27f837521d3d5177d1a22'), ObjectId('68d27f837521d3d5177d1a23'), ObjectId('68d27f837521d3d5177d1a24'), ObjectId('68d27f837521d3d5177d1a25'), ObjectId('68d27f837521d3d5177d1a26'), ObjectId('68d27f837521d3d5177d1a27'), ObjectId('68d27f837521d3d5177d1a28'), ObjectId('68d27f837521d3d5177d1a29'), ObjectId('68d27f837521d3d5177d1a2a'), ObjectId('68d27f837521d3d5177d1a2b'), ObjectId('68d27f837521d3d5177d1a2c'), ObjectId('68d27f837521d3d5177d1a2d'), ObjectId('68d27f837521d3d5177d1a2e'), ObjectId('68d27f837521d3d5177d1a2f'), ObjectId('68d27f837521d3d5177d1a30'), ObjectId('68d27f837521d3d5177d1a31'), ObjectId('68d27f837521d3d5177d1a32'), ObjectId('68d27f837521d3d5177d1a33'), ObjectId('68d27f837521d3d5177d1a34'), ObjectId('68d27f837521d3d5177d1a35'), ObjectId('68d27f837521d3d5177d1a36'), ObjectId('68d27f837521d3d5177d1a37'), ObjectId('68d27f837521d3d5177d1a38'), ObjectId('68d27f837521d3d5177d1a39'), ObjectId('68d27f837521d3d5177d1a3a'), ObjectId('68d27f837521d3d5177d1a3b'), ObjectId('68d27f837521d3d5177d1a3c'), ObjectId('68d27f837521d3d5177d1a3d'), ObjectId('68d27f837521d3d5177d1a3e'), ObjectId('68d27f837521d3d5177d1a3f'), ObjectId('68d27f837521d3d5177d1a40'), ObjectId('68d27f837521d3d5177d1a41'), ObjectId('68d27f837521d3d5177d1a42'), ObjectId('68d27f837521d3d5177d1a43'), ObjectId('68d27f837521d3d5177d1a44'), ObjectId('68d27f837521d3d5177d1a45'), ObjectId('68d27f837521d3d5177d1a46'), ObjectId('68d27f837521d3d5177d1a47'), ObjectId('68d27f837521d3d5177d1a48'), ObjectId('68d27f837521d3d5177d1a49'), ObjectId('68d27f837521d3d5177d1a4a'), ObjectId('68d27f837521d3d5177d1a4b'), ObjectId('68d27f837521d3d5177d1a4c'), ObjectId('68d27f837521d3d5177d1a4d'), ObjectId('68d27f837521d3d5177d1a4e'), ObjectId('68d27f837521d3d5177d1a4f'), ObjectId('68d27f837521d3d5177d1a50'), ObjectId('68d27f837521d3d5177d1a51'), ObjectId('68d27f837521d3d5177d1a52'), ObjectId('68d27f837521d3d5177d1a53'), ObjectId('68d27f837521d3d5177d1a54'), ObjectId('68d27f837521d3d5177d1a55'), ObjectId('68d27f837521d3d5177d1a56'), ObjectId('68d27f837521d3d5177d1a57'), ObjectId('68d27f837521d3d5177d1a58'), ObjectId('68d27f837521d3d5177d1a59'), ObjectId('68d27f837521d3d5177d1a5a'), ObjectId('68d27f837521d3d5177d1a5b'), ObjectId('68d27f837521d3d5177d1a5c'), ObjectId('68d27f837521d3d5177d1a5d'), ObjectId('68d27f837521d3d5177d1a5e'), ObjectId('68d27f837521d3d5177d1a5f'), ObjectId('68d27f837521d3d5177d1a60'), ObjectId('68d27f837521d3d5177d1a61'), ObjectId('68d27f837521d3d5177d1a62'), ObjectId('68d27f837521d3d5177d1a63'), ObjectId('68d27f837521d3d5177d1a64'), ObjectId('68d27f837521d3d5177d1a65'), ObjectId('68d27f837521d3d5177d1a66'), ObjectId('68d27f837521d3d5177d1a67'), ObjectId('68d27f837521d3d5177d1a68'), ObjectId('68d27f837521d3d5177d1a69'), ObjectId('68d27f837521d3d5177d1a6a'), ObjectId('68d27f837521d3d5177d1a6b'), ObjectId('68d27f837521d3d5177d1a6c'), ObjectId('68d27f837521d3d5177d1a6d'), ObjectId('68d27f837521d3d5177d1a6e'), ObjectId('68d27f837521d3d5177d1a6f'), ObjectId('68d27f837521d3d5177d1a70'), ObjectId('68d27f837521d3d5177d1a71'), ObjectId('68d27f837521d3d5177d1a72'), ObjectId('68d27f837521d3d5177d1a73'), ObjectId('68d27f837521d3d5177d1a74'), ObjectId('68d27f837521d3d5177d1a75'), ObjectId('68d27f837521d3d5177d1a76'), ObjectId('68d27f837521d3d5177d1a77'), ObjectId('68d27f837521d3d5177d1a78'), ObjectId('68d27f837521d3d5177d1a79'), ObjectId('68d27f837521d3d5177d1a7a'), ObjectId('68d27f837521d3d5177d1a7b'), ObjectId('68d27f837521d3d5177d1a7c'), ObjectId('68d27f837521d3d5177d1a7d'), ObjectId('68d27f837521d3d5177d1a7e'), ObjectId('68d27f837521d3d5177d1a7f'), ObjectId('68d27f837521d3d5177d1a80'), ObjectId('68d27f837521d3d5177d1a81'), ObjectId('68d27f837521d3d5177d1a82'), ObjectId('68d27f837521d3d5177d1a83'), ObjectId('68d27f837521d3d5177d1a84'), ObjectId('68d27f837521d3d5177d1a85'), ObjectId('68d27f837521d3d5177d1a86'), ObjectId('68d27f837521d3d5177d1a87'), ObjectId('68d27f837521d3d5177d1a88'), ObjectId('68d27f837521d3d5177d1a89'), ObjectId('68d27f837521d3d5177d1a8a'), ObjectId('68d27f837521d3d5177d1a8b'), ObjectId('68d27f837521d3d5177d1a8c'), ObjectId('68d27f837521d3d5177d1a8d'), ObjectId('68d27f837521d3d5177d1a8e'), ObjectId('68d27f837521d3d5177d1a8f'), ObjectId('68d27f837521d3d5177d1a90'), ObjectId('68d27f837521d3d5177d1a91'), ObjectId('68d27f837521d3d5177d1a92'), ObjectId('68d27f837521d3d5177d1a93'), ObjectId('68d27f837521d3d5177d1a94'), ObjectId('68d27f837521d3d5177d1a95'), ObjectId('68d27f837521d3d5177d1a96'), ObjectId('68d27f837521d3d5177d1a97'), ObjectId('68d27f837521d3d5177d1a98'), ObjectId('68d27f837521d3d5177d1a99'), ObjectId('68d27f837521d3d5177d1a9a'), ObjectId('68d27f837521d3d5177d1a9b'), ObjectId('68d27f837521d3d5177d1a9c'), ObjectId('68d27f837521d3d5177d1a9d'), ObjectId('68d27f837521d3d5177d1a9e'), ObjectId('68d27f837521d3d5177d1a9f'), ObjectId('68d27f837521d3d5177d1aa0'), ObjectId('68d27f837521d3d5177d1aa1'), ObjectId('68d27f837521d3d5177d1aa2'), ObjectId('68d27f837521d3d5177d1aa3'), ObjectId('68d27f837521d3d5177d1aa4'), ObjectId('68d27f837521d3d5177d1aa5'), ObjectId('68d27f837521d3d5177d1aa6'), ObjectId('68d27f837521d3d5177d1aa7'), ObjectId('68d27f837521d3d5177d1aa8'), ObjectId('68d27f837521d3d5177d1aa9'), ObjectId('68d27f837521d3d5177d1aaa'), ObjectId('68d27f837521d3d5177d1aab'), ObjectId('68d27f837521d3d5177d1aac'), ObjectId('68d27f837521d3d5177d1aad'), ObjectId('68d27f837521d3d5177d1aae'), ObjectId('68d27f837521d3d5177d1aaf'), ObjectId('68d27f837521d3d5177d1ab0'), ObjectId('68d27f837521d3d5177d1ab1'), ObjectId('68d27f837521d3d5177d1ab2'), ObjectId('68d27f837521d3d5177d1ab3'), ObjectId('68d27f837521d3d5177d1ab4'), ObjectId('68d27f837521d3d5177d1ab5'), ObjectId('68d27f837521d3d5177d1ab6'), ObjectId('68d27f837521d3d5177d1ab7'), ObjectId('68d27f837521d3d5177d1ab8'), ObjectId('68d27f837521d3d5177d1ab9'), ObjectId('68d27f837521d3d5177d1aba'), ObjectId('68d27f837521d3d5177d1abb'), ObjectId('68d27f837521d3d5177d1abc'), ObjectId('68d27f837521d3d5177d1abd'), ObjectId('68d27f837521d3d5177d1abe'), ObjectId('68d27f837521d3d5177d1abf'), ObjectId('68d27f837521d3d5177d1ac0'), ObjectId('68d27f837521d3d5177d1ac1'), ObjectId('68d27f837521d3d5177d1ac2'), ObjectId('68d27f837521d3d5177d1ac3'), ObjectId('68d27f837521d3d5177d1ac4'), ObjectId('68d27f837521d3d5177d1ac5'), ObjectId('68d27f837521d3d5177d1ac6'), ObjectId('68d27f837521d3d5177d1ac7'), ObjectId('68d27f837521d3d5177d1ac8'), ObjectId('68d27f837521d3d5177d1ac9'), ObjectId('68d27f837521d3d5177d1aca'), ObjectId('68d27f837521d3d5177d1acb'), ObjectId('68d27f837521d3d5177d1acc'), ObjectId('68d27f837521d3d5177d1acd'), ObjectId('68d27f837521d3d5177d1ace'), ObjectId('68d27f837521d3d5177d1acf'), ObjectId('68d27f837521d3d5177d1ad0'), ObjectId('68d27f837521d3d5177d1ad1'), ObjectId('68d27f837521d3d5177d1ad2'), ObjectId('68d27f837521d3d5177d1ad3'), ObjectId('68d27f837521d3d5177d1ad4'), ObjectId('68d27f837521d3d5177d1ad5'), ObjectId('68d27f837521d3d5177d1ad6'), ObjectId('68d27f837521d3d5177d1ad7'), ObjectId('68d27f837521d3d5177d1ad8'), ObjectId('68d27f837521d3d5177d1ad9'), ObjectId('68d27f837521d3d5177d1ada'), ObjectId('68d27f837521d3d5177d1adb'), ObjectId('68d27f837521d3d5177d1adc'), ObjectId('68d27f837521d3d5177d1add'), ObjectId('68d27f837521d3d5177d1ade'), ObjectId('68d27f837521d3d5177d1adf'), ObjectId('68d27f837521d3d5177d1ae0'), ObjectId('68d27f837521d3d5177d1ae1'), ObjectId('68d27f837521d3d5177d1ae2'), ObjectId('68d27f837521d3d5177d1ae3'), ObjectId('68d27f837521d3d5177d1ae4'), ObjectId('68d27f837521d3d5177d1ae5'), ObjectId('68d27f837521d3d5177d1ae6'), ObjectId('68d27f837521d3d5177d1ae7'), ObjectId('68d27f837521d3d5177d1ae8'), ObjectId('68d27f837521d3d5177d1ae9'), ObjectId('68d27f837521d3d5177d1aea'), ObjectId('68d27f837521d3d5177d1aeb'), ObjectId('68d27f837521d3d5177d1aec'), ObjectId('68d27f837521d3d5177d1aed'), ObjectId('68d27f837521d3d5177d1aee'), ObjectId('68d27f837521d3d5177d1aef'), ObjectId('68d27f837521d3d5177d1af0'), ObjectId('68d27f837521d3d5177d1af1'), ObjectId('68d27f837521d3d5177d1af2'), ObjectId('68d27f837521d3d5177d1af3'), ObjectId('68d27f837521d3d5177d1af4'), ObjectId('68d27f837521d3d5177d1af5'), ObjectId('68d27f837521d3d5177d1af6'), ObjectId('68d27f837521d3d5177d1af7'), ObjectId('68d27f837521d3d5177d1af8'), ObjectId('68d27f837521d3d5177d1af9'), ObjectId('68d27f837521d3d5177d1afa'), ObjectId('68d27f837521d3d5177d1afb'), ObjectId('68d27f837521d3d5177d1afc'), ObjectId('68d27f837521d3d5177d1afd'), ObjectId('68d27f837521d3d5177d1afe'), ObjectId('68d27f837521d3d5177d1aff'), ObjectId('68d27f837521d3d5177d1b00'), ObjectId('68d27f837521d3d5177d1b01'), ObjectId('68d27f837521d3d5177d1b02'), ObjectId('68d27f837521d3d5177d1b03'), ObjectId('68d27f837521d3d5177d1b04'), ObjectId('68d27f837521d3d5177d1b05'), ObjectId('68d27f837521d3d5177d1b06'), ObjectId('68d27f837521d3d5177d1b07'), ObjectId('68d27f837521d3d5177d1b08'), ObjectId('68d27f837521d3d5177d1b09'), ObjectId('68d27f837521d3d5177d1b0a'), ObjectId('68d27f837521d3d5177d1b0b'), ObjectId('68d27f837521d3d5177d1b0c'), ObjectId('68d27f837521d3d5177d1b0d'), ObjectId('68d27f837521d3d5177d1b0e'), ObjectId('68d27f837521d3d5177d1b0f'), ObjectId('68d27f837521d3d5177d1b10'), ObjectId('68d27f837521d3d5177d1b11'), ObjectId('68d27f837521d3d5177d1b12'), ObjectId('68d27f837521d3d5177d1b13'), ObjectId('68d27f837521d3d5177d1b14'), ObjectId('68d27f837521d3d5177d1b15'), ObjectId('68d27f837521d3d5177d1b16'), ObjectId('68d27f837521d3d5177d1b17'), ObjectId('68d27f837521d3d5177d1b18'), ObjectId('68d27f837521d3d5177d1b19'), ObjectId('68d27f837521d3d5177d1b1a'), ObjectId('68d27f837521d3d5177d1b1b'), ObjectId('68d27f837521d3d5177d1b1c'), ObjectId('68d27f837521d3d5177d1b1d'), ObjectId('68d27f837521d3d5177d1b1e'), ObjectId('68d27f837521d3d5177d1b1f'), ObjectId('68d27f837521d3d5177d1b20'), ObjectId('68d27f837521d3d5177d1b21'), ObjectId('68d27f837521d3d5177d1b22'), ObjectId('68d27f837521d3d5177d1b23'), ObjectId('68d27f837521d3d5177d1b24'), ObjectId('68d27f837521d3d5177d1b25'), ObjectId('68d27f837521d3d5177d1b26'), ObjectId('68d27f837521d3d5177d1b27'), ObjectId('68d27f837521d3d5177d1b28'), ObjectId('68d27f837521d3d5177d1b29'), ObjectId('68d27f837521d3d5177d1b2a'), ObjectId('68d27f837521d3d5177d1b2b'), ObjectId('68d27f837521d3d5177d1b2c'), ObjectId('68d27f837521d3d5177d1b2d'), ObjectId('68d27f837521d3d5177d1b2e'), ObjectId('68d27f837521d3d5177d1b2f'), ObjectId('68d27f837521d3d5177d1b30'), ObjectId('68d27f837521d3d5177d1b31'), ObjectId('68d27f837521d3d5177d1b32'), ObjectId('68d27f837521d3d5177d1b33'), ObjectId('68d27f837521d3d5177d1b34'), ObjectId('68d27f837521d3d5177d1b35'), ObjectId('68d27f837521d3d5177d1b36'), ObjectId('68d27f837521d3d5177d1b37'), ObjectId('68d27f837521d3d5177d1b38'), ObjectId('68d27f837521d3d5177d1b39'), ObjectId('68d27f837521d3d5177d1b3a'), ObjectId('68d27f837521d3d5177d1b3b'), ObjectId('68d27f837521d3d5177d1b3c'), ObjectId('68d27f837521d3d5177d1b3d'), ObjectId('68d27f837521d3d5177d1b3e'), ObjectId('68d27f837521d3d5177d1b3f'), ObjectId('68d27f837521d3d5177d1b40'), ObjectId('68d27f837521d3d5177d1b41'), ObjectId('68d27f837521d3d5177d1b42'), ObjectId('68d27f837521d3d5177d1b43'), ObjectId('68d27f837521d3d5177d1b44'), ObjectId('68d27f837521d3d5177d1b45'), ObjectId('68d27f837521d3d5177d1b46'), ObjectId('68d27f837521d3d5177d1b47'), ObjectId('68d27f837521d3d5177d1b48'), ObjectId('68d27f837521d3d5177d1b49'), ObjectId('68d27f837521d3d5177d1b4a'), ObjectId('68d27f837521d3d5177d1b4b'), ObjectId('68d27f837521d3d5177d1b4c'), ObjectId('68d27f837521d3d5177d1b4d'), ObjectId('68d27f837521d3d5177d1b4e'), ObjectId('68d27f837521d3d5177d1b4f'), ObjectId('68d27f837521d3d5177d1b50'), ObjectId('68d27f837521d3d5177d1b51'), ObjectId('68d27f837521d3d5177d1b52'), ObjectId('68d27f837521d3d5177d1b53'), ObjectId('68d27f837521d3d5177d1b54'), ObjectId('68d27f837521d3d5177d1b55'), ObjectId('68d27f837521d3d5177d1b56'), ObjectId('68d27f837521d3d5177d1b57'), ObjectId('68d27f837521d3d5177d1b58'), ObjectId('68d27f837521d3d5177d1b59'), ObjectId('68d27f837521d3d5177d1b5a'), ObjectId('68d27f837521d3d5177d1b5b'), ObjectId('68d27f837521d3d5177d1b5c'), ObjectId('68d27f837521d3d5177d1b5d'), ObjectId('68d27f837521d3d5177d1b5e'), ObjectId('68d27f837521d3d5177d1b5f'), ObjectId('68d27f837521d3d5177d1b60'), ObjectId('68d27f837521d3d5177d1b61'), ObjectId('68d27f837521d3d5177d1b62'), ObjectId('68d27f837521d3d5177d1b63'), ObjectId('68d27f837521d3d5177d1b64'), ObjectId('68d27f837521d3d5177d1b65'), ObjectId('68d27f837521d3d5177d1b66'), ObjectId('68d27f837521d3d5177d1b67'), ObjectId('68d27f837521d3d5177d1b68'), ObjectId('68d27f837521d3d5177d1b69'), ObjectId('68d27f837521d3d5177d1b6a'), ObjectId('68d27f837521d3d5177d1b6b'), ObjectId('68d27f837521d3d5177d1b6c'), ObjectId('68d27f837521d3d5177d1b6d'), ObjectId('68d27f837521d3d5177d1b6e'), ObjectId('68d27f837521d3d5177d1b6f'), ObjectId('68d27f837521d3d5177d1b70'), ObjectId('68d27f837521d3d5177d1b71'), ObjectId('68d27f837521d3d5177d1b72'), ObjectId('68d27f837521d3d5177d1b73'), ObjectId('68d27f837521d3d5177d1b74'), ObjectId('68d27f837521d3d5177d1b75'), ObjectId('68d27f837521d3d5177d1b76'), ObjectId('68d27f837521d3d5177d1b77'), ObjectId('68d27f837521d3d5177d1b78'), ObjectId('68d27f837521d3d5177d1b79'), ObjectId('68d27f837521d3d5177d1b7a'), ObjectId('68d27f837521d3d5177d1b7b'), ObjectId('68d27f837521d3d5177d1b7c'), ObjectId('68d27f837521d3d5177d1b7d'), ObjectId('68d27f837521d3d5177d1b7e'), ObjectId('68d27f837521d3d5177d1b7f'), ObjectId('68d27f837521d3d5177d1b80'), ObjectId('68d27f837521d3d5177d1b81'), ObjectId('68d27f837521d3d5177d1b82'), ObjectId('68d27f837521d3d5177d1b83'), ObjectId('68d27f837521d3d5177d1b84'), ObjectId('68d27f837521d3d5177d1b85'), ObjectId('68d27f837521d3d5177d1b86'), ObjectId('68d27f837521d3d5177d1b87'), ObjectId('68d27f837521d3d5177d1b88'), ObjectId('68d27f837521d3d5177d1b89'), ObjectId('68d27f837521d3d5177d1b8a'), ObjectId('68d27f837521d3d5177d1b8b'), ObjectId('68d27f837521d3d5177d1b8c'), ObjectId('68d27f837521d3d5177d1b8d'), ObjectId('68d27f837521d3d5177d1b8e'), ObjectId('68d27f837521d3d5177d1b8f'), ObjectId('68d27f837521d3d5177d1b90'), ObjectId('68d27f837521d3d5177d1b91'), ObjectId('68d27f837521d3d5177d1b92'), ObjectId('68d27f837521d3d5177d1b93'), ObjectId('68d27f837521d3d5177d1b94'), ObjectId('68d27f837521d3d5177d1b95'), ObjectId('68d27f837521d3d5177d1b96'), ObjectId('68d27f837521d3d5177d1b97'), ObjectId('68d27f837521d3d5177d1b98'), ObjectId('68d27f837521d3d5177d1b99'), ObjectId('68d27f837521d3d5177d1b9a'), ObjectId('68d27f837521d3d5177d1b9b'), ObjectId('68d27f837521d3d5177d1b9c'), ObjectId('68d27f837521d3d5177d1b9d'), ObjectId('68d27f837521d3d5177d1b9e'), ObjectId('68d27f837521d3d5177d1b9f'), ObjectId('68d27f837521d3d5177d1ba0'), ObjectId('68d27f837521d3d5177d1ba1'), ObjectId('68d27f837521d3d5177d1ba2'), ObjectId('68d27f837521d3d5177d1ba3'), ObjectId('68d27f837521d3d5177d1ba4'), ObjectId('68d27f837521d3d5177d1ba5'), ObjectId('68d27f837521d3d5177d1ba6'), ObjectId('68d27f837521d3d5177d1ba7'), ObjectId('68d27f837521d3d5177d1ba8'), ObjectId('68d27f837521d3d5177d1ba9'), ObjectId('68d27f837521d3d5177d1baa'), ObjectId('68d27f837521d3d5177d1bab'), ObjectId('68d27f837521d3d5177d1bac'), ObjectId('68d27f837521d3d5177d1bad'), ObjectId('68d27f837521d3d5177d1bae'), ObjectId('68d27f837521d3d5177d1baf'), ObjectId('68d27f837521d3d5177d1bb0'), ObjectId('68d27f837521d3d5177d1bb1'), ObjectId('68d27f837521d3d5177d1bb2'), ObjectId('68d27f837521d3d5177d1bb3'), ObjectId('68d27f837521d3d5177d1bb4'), ObjectId('68d27f837521d3d5177d1bb5'), ObjectId('68d27f837521d3d5177d1bb6'), ObjectId('68d27f837521d3d5177d1bb7'), ObjectId('68d27f837521d3d5177d1bb8'), ObjectId('68d27f837521d3d5177d1bb9'), ObjectId('68d27f837521d3d5177d1bba'), ObjectId('68d27f837521d3d5177d1bbb'), ObjectId('68d27f837521d3d5177d1bbc'), ObjectId('68d27f837521d3d5177d1bbd'), ObjectId('68d27f837521d3d5177d1bbe'), ObjectId('68d27f837521d3d5177d1bbf'), ObjectId('68d27f837521d3d5177d1bc0'), ObjectId('68d27f837521d3d5177d1bc1'), ObjectId('68d27f837521d3d5177d1bc2'), ObjectId('68d27f837521d3d5177d1bc3'), ObjectId('68d27f837521d3d5177d1bc4'), ObjectId('68d27f837521d3d5177d1bc5'), ObjectId('68d27f837521d3d5177d1bc6'), ObjectId('68d27f837521d3d5177d1bc7'), ObjectId('68d27f837521d3d5177d1bc8'), ObjectId('68d27f837521d3d5177d1bc9'), ObjectId('68d27f837521d3d5177d1bca'), ObjectId('68d27f837521d3d5177d1bcb'), ObjectId('68d27f837521d3d5177d1bcc'), ObjectId('68d27f837521d3d5177d1bcd'), ObjectId('68d27f837521d3d5177d1bce'), ObjectId('68d27f837521d3d5177d1bcf'), ObjectId('68d27f837521d3d5177d1bd0'), ObjectId('68d27f837521d3d5177d1bd1'), ObjectId('68d27f837521d3d5177d1bd2'), ObjectId('68d27f837521d3d5177d1bd3'), ObjectId('68d27f837521d3d5177d1bd4'), ObjectId('68d27f837521d3d5177d1bd5'), ObjectId('68d27f837521d3d5177d1bd6'), ObjectId('68d27f837521d3d5177d1bd7'), ObjectId('68d27f837521d3d5177d1bd8'), ObjectId('68d27f837521d3d5177d1bd9'), ObjectId('68d27f837521d3d5177d1bda'), ObjectId('68d27f837521d3d5177d1bdb'), ObjectId('68d27f837521d3d5177d1bdc'), ObjectId('68d27f837521d3d5177d1bdd'), ObjectId('68d27f837521d3d5177d1bde'), ObjectId('68d27f837521d3d5177d1bdf'), ObjectId('68d27f837521d3d5177d1be0'), ObjectId('68d27f837521d3d5177d1be1'), ObjectId('68d27f837521d3d5177d1be2'), ObjectId('68d27f837521d3d5177d1be3'), ObjectId('68d27f837521d3d5177d1be4'), ObjectId('68d27f837521d3d5177d1be5'), ObjectId('68d27f837521d3d5177d1be6'), ObjectId('68d27f837521d3d5177d1be7'), ObjectId('68d27f837521d3d5177d1be8'), ObjectId('68d27f837521d3d5177d1be9'), ObjectId('68d27f837521d3d5177d1bea'), ObjectId('68d27f837521d3d5177d1beb'), ObjectId('68d27f837521d3d5177d1bec'), ObjectId('68d27f837521d3d5177d1bed'), ObjectId('68d27f837521d3d5177d1bee'), ObjectId('68d27f837521d3d5177d1bef'), ObjectId('68d27f837521d3d5177d1bf0'), ObjectId('68d27f837521d3d5177d1bf1'), ObjectId('68d27f837521d3d5177d1bf2'), ObjectId('68d27f837521d3d5177d1bf3'), ObjectId('68d27f837521d3d5177d1bf4'), ObjectId('68d27f837521d3d5177d1bf5'), ObjectId('68d27f837521d3d5177d1bf6'), ObjectId('68d27f837521d3d5177d1bf7'), ObjectId('68d27f837521d3d5177d1bf8'), ObjectId('68d27f837521d3d5177d1bf9'), ObjectId('68d27f837521d3d5177d1bfa'), ObjectId('68d27f837521d3d5177d1bfb'), ObjectId('68d27f837521d3d5177d1bfc'), ObjectId('68d27f837521d3d5177d1bfd'), ObjectId('68d27f837521d3d5177d1bfe'), ObjectId('68d27f837521d3d5177d1bff'), ObjectId('68d27f837521d3d5177d1c00'), ObjectId('68d27f837521d3d5177d1c01'), ObjectId('68d27f837521d3d5177d1c02'), ObjectId('68d27f837521d3d5177d1c03'), ObjectId('68d27f837521d3d5177d1c04'), ObjectId('68d27f837521d3d5177d1c05'), ObjectId('68d27f837521d3d5177d1c06'), ObjectId('68d27f837521d3d5177d1c07'), ObjectId('68d27f837521d3d5177d1c08'), ObjectId('68d27f837521d3d5177d1c09'), ObjectId('68d27f837521d3d5177d1c0a'), ObjectId('68d27f837521d3d5177d1c0b'), ObjectId('68d27f837521d3d5177d1c0c'), ObjectId('68d27f837521d3d5177d1c0d'), ObjectId('68d27f837521d3d5177d1c0e'), ObjectId('68d27f837521d3d5177d1c0f'), ObjectId('68d27f837521d3d5177d1c10'), ObjectId('68d27f837521d3d5177d1c11'), ObjectId('68d27f837521d3d5177d1c12'), ObjectId('68d27f837521d3d5177d1c13'), ObjectId('68d27f837521d3d5177d1c14'), ObjectId('68d27f837521d3d5177d1c15'), ObjectId('68d27f837521d3d5177d1c16'), ObjectId('68d27f837521d3d5177d1c17'), ObjectId('68d27f837521d3d5177d1c18'), ObjectId('68d27f837521d3d5177d1c19'), ObjectId('68d27f837521d3d5177d1c1a'), ObjectId('68d27f837521d3d5177d1c1b'), ObjectId('68d27f837521d3d5177d1c1c'), ObjectId('68d27f837521d3d5177d1c1d'), ObjectId('68d27f837521d3d5177d1c1e'), ObjectId('68d27f837521d3d5177d1c1f'), ObjectId('68d27f837521d3d5177d1c20'), ObjectId('68d27f837521d3d5177d1c21'), ObjectId('68d27f837521d3d5177d1c22'), ObjectId('68d27f837521d3d5177d1c23'), ObjectId('68d27f837521d3d5177d1c24'), ObjectId('68d27f837521d3d5177d1c25'), ObjectId('68d27f837521d3d5177d1c26'), ObjectId('68d27f837521d3d5177d1c27'), ObjectId('68d27f837521d3d5177d1c28'), ObjectId('68d27f837521d3d5177d1c29'), ObjectId('68d27f837521d3d5177d1c2a'), ObjectId('68d27f837521d3d5177d1c2b'), ObjectId('68d27f837521d3d5177d1c2c'), ObjectId('68d27f837521d3d5177d1c2d'), ObjectId('68d27f837521d3d5177d1c2e'), ObjectId('68d27f837521d3d5177d1c2f'), ObjectId('68d27f837521d3d5177d1c30'), ObjectId('68d27f837521d3d5177d1c31'), ObjectId('68d27f837521d3d5177d1c32'), ObjectId('68d27f837521d3d5177d1c33'), ObjectId('68d27f837521d3d5177d1c34'), ObjectId('68d27f837521d3d5177d1c35'), ObjectId('68d27f837521d3d5177d1c36'), ObjectId('68d27f837521d3d5177d1c37'), ObjectId('68d27f837521d3d5177d1c38'), ObjectId('68d27f837521d3d5177d1c39'), ObjectId('68d27f837521d3d5177d1c3a'), ObjectId('68d27f837521d3d5177d1c3b'), ObjectId('68d27f837521d3d5177d1c3c'), ObjectId('68d27f837521d3d5177d1c3d'), ObjectId('68d27f837521d3d5177d1c3e'), ObjectId('68d27f837521d3d5177d1c3f'), ObjectId('68d27f837521d3d5177d1c40'), ObjectId('68d27f837521d3d5177d1c41'), ObjectId('68d27f837521d3d5177d1c42'), ObjectId('68d27f837521d3d5177d1c43'), ObjectId('68d27f837521d3d5177d1c44'), ObjectId('68d27f837521d3d5177d1c45'), ObjectId('68d27f837521d3d5177d1c46'), ObjectId('68d27f837521d3d5177d1c47'), ObjectId('68d27f837521d3d5177d1c48'), ObjectId('68d27f837521d3d5177d1c49'), ObjectId('68d27f837521d3d5177d1c4a'), ObjectId('68d27f837521d3d5177d1c4b'), ObjectId('68d27f837521d3d5177d1c4c'), ObjectId('68d27f837521d3d5177d1c4d'), ObjectId('68d27f837521d3d5177d1c4e'), ObjectId('68d27f837521d3d5177d1c4f'), ObjectId('68d27f837521d3d5177d1c50'), ObjectId('68d27f837521d3d5177d1c51'), ObjectId('68d27f837521d3d5177d1c52'), ObjectId('68d27f837521d3d5177d1c53'), ObjectId('68d27f837521d3d5177d1c54'), ObjectId('68d27f837521d3d5177d1c55'), ObjectId('68d27f837521d3d5177d1c56'), ObjectId('68d27f837521d3d5177d1c57'), ObjectId('68d27f837521d3d5177d1c58'), ObjectId('68d27f837521d3d5177d1c59'), ObjectId('68d27f837521d3d5177d1c5a'), ObjectId('68d27f837521d3d5177d1c5b'), ObjectId('68d27f837521d3d5177d1c5c'), ObjectId('68d27f837521d3d5177d1c5d'), ObjectId('68d27f837521d3d5177d1c5e'), ObjectId('68d27f837521d3d5177d1c5f'), ObjectId('68d27f837521d3d5177d1c60'), ObjectId('68d27f837521d3d5177d1c61'), ObjectId('68d27f837521d3d5177d1c62'), ObjectId('68d27f837521d3d5177d1c63'), ObjectId('68d27f837521d3d5177d1c64'), ObjectId('68d27f837521d3d5177d1c65'), ObjectId('68d27f837521d3d5177d1c66'), ObjectId('68d27f837521d3d5177d1c67'), ObjectId('68d27f837521d3d5177d1c68'), ObjectId('68d27f837521d3d5177d1c69'), ObjectId('68d27f837521d3d5177d1c6a'), ObjectId('68d27f837521d3d5177d1c6b'), ObjectId('68d27f837521d3d5177d1c6c'), ObjectId('68d27f837521d3d5177d1c6d'), ObjectId('68d27f837521d3d5177d1c6e'), ObjectId('68d27f837521d3d5177d1c6f'), ObjectId('68d27f837521d3d5177d1c70'), ObjectId('68d27f837521d3d5177d1c71'), ObjectId('68d27f837521d3d5177d1c72'), ObjectId('68d27f837521d3d5177d1c73'), ObjectId('68d27f837521d3d5177d1c74'), ObjectId('68d27f837521d3d5177d1c75'), ObjectId('68d27f837521d3d5177d1c76'), ObjectId('68d27f837521d3d5177d1c77'), ObjectId('68d27f837521d3d5177d1c78'), ObjectId('68d27f837521d3d5177d1c79'), ObjectId('68d27f837521d3d5177d1c7a'), ObjectId('68d27f837521d3d5177d1c7b'), ObjectId('68d27f837521d3d5177d1c7c'), ObjectId('68d27f837521d3d5177d1c7d'), ObjectId('68d27f837521d3d5177d1c7e'), ObjectId('68d27f837521d3d5177d1c7f'), ObjectId('68d27f837521d3d5177d1c80'), ObjectId('68d27f837521d3d5177d1c81'), ObjectId('68d27f837521d3d5177d1c82'), ObjectId('68d27f837521d3d5177d1c83'), ObjectId('68d27f837521d3d5177d1c84'), ObjectId('68d27f837521d3d5177d1c85'), ObjectId('68d27f837521d3d5177d1c86'), ObjectId('68d27f837521d3d5177d1c87'), ObjectId('68d27f837521d3d5177d1c88'), ObjectId('68d27f837521d3d5177d1c89'), ObjectId('68d27f837521d3d5177d1c8a'), ObjectId('68d27f837521d3d5177d1c8b'), ObjectId('68d27f837521d3d5177d1c8c'), ObjectId('68d27f837521d3d5177d1c8d'), ObjectId('68d27f837521d3d5177d1c8e'), ObjectId('68d27f837521d3d5177d1c8f'), ObjectId('68d27f837521d3d5177d1c90'), ObjectId('68d27f837521d3d5177d1c91'), ObjectId('68d27f837521d3d5177d1c92'), ObjectId('68d27f837521d3d5177d1c93'), ObjectId('68d27f837521d3d5177d1c94'), ObjectId('68d27f837521d3d5177d1c95'), ObjectId('68d27f837521d3d5177d1c96'), ObjectId('68d27f837521d3d5177d1c97'), ObjectId('68d27f837521d3d5177d1c98'), ObjectId('68d27f837521d3d5177d1c99'), ObjectId('68d27f837521d3d5177d1c9a'), ObjectId('68d27f837521d3d5177d1c9b'), ObjectId('68d27f837521d3d5177d1c9c'), ObjectId('68d27f837521d3d5177d1c9d'), ObjectId('68d27f837521d3d5177d1c9e'), ObjectId('68d27f837521d3d5177d1c9f'), ObjectId('68d27f837521d3d5177d1ca0'), ObjectId('68d27f837521d3d5177d1ca1'), ObjectId('68d27f837521d3d5177d1ca2'), ObjectId('68d27f837521d3d5177d1ca3'), ObjectId('68d27f837521d3d5177d1ca4'), ObjectId('68d27f837521d3d5177d1ca5'), ObjectId('68d27f837521d3d5177d1ca6'), ObjectId('68d27f837521d3d5177d1ca7'), ObjectId('68d27f837521d3d5177d1ca8'), ObjectId('68d27f837521d3d5177d1ca9'), ObjectId('68d27f837521d3d5177d1caa'), ObjectId('68d27f837521d3d5177d1cab'), ObjectId('68d27f837521d3d5177d1cac'), ObjectId('68d27f837521d3d5177d1cad'), ObjectId('68d27f837521d3d5177d1cae'), ObjectId('68d27f837521d3d5177d1caf'), ObjectId('68d27f837521d3d5177d1cb0'), ObjectId('68d27f837521d3d5177d1cb1'), ObjectId('68d27f837521d3d5177d1cb2'), ObjectId('68d27f837521d3d5177d1cb3'), ObjectId('68d27f837521d3d5177d1cb4'), ObjectId('68d27f837521d3d5177d1cb5'), ObjectId('68d27f837521d3d5177d1cb6'), ObjectId('68d27f837521d3d5177d1cb7'), ObjectId('68d27f837521d3d5177d1cb8'), ObjectId('68d27f837521d3d5177d1cb9'), ObjectId('68d27f837521d3d5177d1cba'), ObjectId('68d27f837521d3d5177d1cbb'), ObjectId('68d27f837521d3d5177d1cbc'), ObjectId('68d27f837521d3d5177d1cbd'), ObjectId('68d27f837521d3d5177d1cbe'), ObjectId('68d27f837521d3d5177d1cbf'), ObjectId('68d27f837521d3d5177d1cc0'), ObjectId('68d27f837521d3d5177d1cc1'), ObjectId('68d27f837521d3d5177d1cc2'), ObjectId('68d27f837521d3d5177d1cc3'), ObjectId('68d27f837521d3d5177d1cc4'), ObjectId('68d27f837521d3d5177d1cc5'), ObjectId('68d27f837521d3d5177d1cc6'), ObjectId('68d27f837521d3d5177d1cc7'), ObjectId('68d27f837521d3d5177d1cc8'), ObjectId('68d27f837521d3d5177d1cc9'), ObjectId('68d27f837521d3d5177d1cca'), ObjectId('68d27f837521d3d5177d1ccb'), ObjectId('68d27f837521d3d5177d1ccc'), ObjectId('68d27f837521d3d5177d1ccd'), ObjectId('68d27f837521d3d5177d1cce'), ObjectId('68d27f837521d3d5177d1ccf'), ObjectId('68d27f837521d3d5177d1cd0'), ObjectId('68d27f837521d3d5177d1cd1'), ObjectId('68d27f837521d3d5177d1cd2'), ObjectId('68d27f837521d3d5177d1cd3'), ObjectId('68d27f837521d3d5177d1cd4'), ObjectId('68d27f837521d3d5177d1cd5'), ObjectId('68d27f837521d3d5177d1cd6'), ObjectId('68d27f837521d3d5177d1cd7'), ObjectId('68d27f837521d3d5177d1cd8'), ObjectId('68d27f837521d3d5177d1cd9'), ObjectId('68d27f837521d3d5177d1cda'), ObjectId('68d27f837521d3d5177d1cdb'), ObjectId('68d27f837521d3d5177d1cdc'), ObjectId('68d27f837521d3d5177d1cdd'), ObjectId('68d27f837521d3d5177d1cde'), ObjectId('68d27f837521d3d5177d1cdf'), ObjectId('68d27f837521d3d5177d1ce0'), ObjectId('68d27f837521d3d5177d1ce1'), ObjectId('68d27f837521d3d5177d1ce2'), ObjectId('68d27f837521d3d5177d1ce3'), ObjectId('68d27f837521d3d5177d1ce4'), ObjectId('68d27f837521d3d5177d1ce5'), ObjectId('68d27f837521d3d5177d1ce6'), ObjectId('68d27f837521d3d5177d1ce7'), ObjectId('68d27f837521d3d5177d1ce8'), ObjectId('68d27f837521d3d5177d1ce9'), ObjectId('68d27f837521d3d5177d1cea'), ObjectId('68d27f837521d3d5177d1ceb'), ObjectId('68d27f837521d3d5177d1cec'), ObjectId('68d27f837521d3d5177d1ced'), ObjectId('68d27f837521d3d5177d1cee'), ObjectId('68d27f837521d3d5177d1cef'), ObjectId('68d27f837521d3d5177d1cf0'), ObjectId('68d27f837521d3d5177d1cf1'), ObjectId('68d27f837521d3d5177d1cf2'), ObjectId('68d27f837521d3d5177d1cf3'), ObjectId('68d27f837521d3d5177d1cf4'), ObjectId('68d27f837521d3d5177d1cf5'), ObjectId('68d27f837521d3d5177d1cf6'), ObjectId('68d27f837521d3d5177d1cf7'), ObjectId('68d27f837521d3d5177d1cf8'), ObjectId('68d27f837521d3d5177d1cf9'), ObjectId('68d27f837521d3d5177d1cfa'), ObjectId('68d27f837521d3d5177d1cfb'), ObjectId('68d27f837521d3d5177d1cfc'), ObjectId('68d27f837521d3d5177d1cfd'), ObjectId('68d27f837521d3d5177d1cfe'), ObjectId('68d27f837521d3d5177d1cff'), ObjectId('68d27f837521d3d5177d1d00'), ObjectId('68d27f837521d3d5177d1d01'), ObjectId('68d27f837521d3d5177d1d02'), ObjectId('68d27f837521d3d5177d1d03'), ObjectId('68d27f837521d3d5177d1d04'), ObjectId('68d27f837521d3d5177d1d05'), ObjectId('68d27f837521d3d5177d1d06'), ObjectId('68d27f837521d3d5177d1d07'), ObjectId('68d27f837521d3d5177d1d08'), ObjectId('68d27f837521d3d5177d1d09'), ObjectId('68d27f837521d3d5177d1d0a'), ObjectId('68d27f837521d3d5177d1d0b'), ObjectId('68d27f837521d3d5177d1d0c'), ObjectId('68d27f837521d3d5177d1d0d'), ObjectId('68d27f837521d3d5177d1d0e'), ObjectId('68d27f837521d3d5177d1d0f'), ObjectId('68d27f837521d3d5177d1d10'), ObjectId('68d27f837521d3d5177d1d11'), ObjectId('68d27f837521d3d5177d1d12'), ObjectId('68d27f837521d3d5177d1d13'), ObjectId('68d27f837521d3d5177d1d14'), ObjectId('68d27f837521d3d5177d1d15'), ObjectId('68d27f837521d3d5177d1d16'), ObjectId('68d27f837521d3d5177d1d17'), ObjectId('68d27f837521d3d5177d1d18'), ObjectId('68d27f837521d3d5177d1d19'), ObjectId('68d27f837521d3d5177d1d1a'), ObjectId('68d27f837521d3d5177d1d1b'), ObjectId('68d27f837521d3d5177d1d1c'), ObjectId('68d27f837521d3d5177d1d1d'), ObjectId('68d27f837521d3d5177d1d1e'), ObjectId('68d27f837521d3d5177d1d1f'), ObjectId('68d27f837521d3d5177d1d20'), ObjectId('68d27f837521d3d5177d1d21'), ObjectId('68d27f837521d3d5177d1d22'), ObjectId('68d27f837521d3d5177d1d23'), ObjectId('68d27f837521d3d5177d1d24'), ObjectId('68d27f837521d3d5177d1d25'), ObjectId('68d27f837521d3d5177d1d26'), ObjectId('68d27f837521d3d5177d1d27'), ObjectId('68d27f837521d3d5177d1d28'), ObjectId('68d27f837521d3d5177d1d29'), ObjectId('68d27f837521d3d5177d1d2a'), ObjectId('68d27f837521d3d5177d1d2b'), ObjectId('68d27f837521d3d5177d1d2c'), ObjectId('68d27f837521d3d5177d1d2d'), ObjectId('68d27f837521d3d5177d1d2e'), ObjectId('68d27f837521d3d5177d1d2f'), ObjectId('68d27f837521d3d5177d1d30'), ObjectId('68d27f837521d3d5177d1d31'), ObjectId('68d27f837521d3d5177d1d32'), ObjectId('68d27f837521d3d5177d1d33'), ObjectId('68d27f837521d3d5177d1d34'), ObjectId('68d27f837521d3d5177d1d35'), ObjectId('68d27f837521d3d5177d1d36'), ObjectId('68d27f837521d3d5177d1d37'), ObjectId('68d27f837521d3d5177d1d38'), ObjectId('68d27f837521d3d5177d1d39'), ObjectId('68d27f837521d3d5177d1d3a'), ObjectId('68d27f837521d3d5177d1d3b'), ObjectId('68d27f837521d3d5177d1d3c'), ObjectId('68d27f837521d3d5177d1d3d'), ObjectId('68d27f837521d3d5177d1d3e'), ObjectId('68d27f837521d3d5177d1d3f'), ObjectId('68d27f837521d3d5177d1d40'), ObjectId('68d27f837521d3d5177d1d41'), ObjectId('68d27f837521d3d5177d1d42'), ObjectId('68d27f837521d3d5177d1d43'), ObjectId('68d27f837521d3d5177d1d44'), ObjectId('68d27f837521d3d5177d1d45'), ObjectId('68d27f837521d3d5177d1d46'), ObjectId('68d27f837521d3d5177d1d47'), ObjectId('68d27f837521d3d5177d1d48'), ObjectId('68d27f837521d3d5177d1d49'), ObjectId('68d27f837521d3d5177d1d4a'), ObjectId('68d27f837521d3d5177d1d4b'), ObjectId('68d27f837521d3d5177d1d4c'), ObjectId('68d27f837521d3d5177d1d4d'), ObjectId('68d27f837521d3d5177d1d4e'), ObjectId('68d27f837521d3d5177d1d4f'), ObjectId('68d27f837521d3d5177d1d50'), ObjectId('68d27f837521d3d5177d1d51'), ObjectId('68d27f837521d3d5177d1d52'), ObjectId('68d27f837521d3d5177d1d53'), ObjectId('68d27f837521d3d5177d1d54'), ObjectId('68d27f837521d3d5177d1d55'), ObjectId('68d27f837521d3d5177d1d56'), ObjectId('68d27f837521d3d5177d1d57'), ObjectId('68d27f837521d3d5177d1d58'), ObjectId('68d27f837521d3d5177d1d59'), ObjectId('68d27f837521d3d5177d1d5a'), ObjectId('68d27f837521d3d5177d1d5b'), ObjectId('68d27f837521d3d5177d1d5c'), ObjectId('68d27f837521d3d5177d1d5d'), ObjectId('68d27f837521d3d5177d1d5e'), ObjectId('68d27f837521d3d5177d1d5f'), ObjectId('68d27f837521d3d5177d1d60'), ObjectId('68d27f837521d3d5177d1d61'), ObjectId('68d27f837521d3d5177d1d62'), ObjectId('68d27f837521d3d5177d1d63'), ObjectId('68d27f837521d3d5177d1d64'), ObjectId('68d27f837521d3d5177d1d65'), ObjectId('68d27f837521d3d5177d1d66'), ObjectId('68d27f837521d3d5177d1d67'), ObjectId('68d27f837521d3d5177d1d68'), ObjectId('68d27f837521d3d5177d1d69'), ObjectId('68d27f837521d3d5177d1d6a'), ObjectId('68d27f837521d3d5177d1d6b'), ObjectId('68d27f837521d3d5177d1d6c'), ObjectId('68d27f837521d3d5177d1d6d'), ObjectId('68d27f837521d3d5177d1d6e'), ObjectId('68d27f837521d3d5177d1d6f'), ObjectId('68d27f837521d3d5177d1d70'), ObjectId('68d27f837521d3d5177d1d71'), ObjectId('68d27f837521d3d5177d1d72'), ObjectId('68d27f837521d3d5177d1d73'), ObjectId('68d27f837521d3d5177d1d74'), ObjectId('68d27f837521d3d5177d1d75'), ObjectId('68d27f837521d3d5177d1d76'), ObjectId('68d27f837521d3d5177d1d77'), ObjectId('68d27f837521d3d5177d1d78'), ObjectId('68d27f837521d3d5177d1d79'), ObjectId('68d27f837521d3d5177d1d7a'), ObjectId('68d27f837521d3d5177d1d7b'), ObjectId('68d27f837521d3d5177d1d7c'), ObjectId('68d27f837521d3d5177d1d7d'), ObjectId('68d27f837521d3d5177d1d7e'), ObjectId('68d27f837521d3d5177d1d7f'), ObjectId('68d27f837521d3d5177d1d80'), ObjectId('68d27f837521d3d5177d1d81'), ObjectId('68d27f837521d3d5177d1d82'), ObjectId('68d27f837521d3d5177d1d83'), ObjectId('68d27f837521d3d5177d1d84'), ObjectId('68d27f837521d3d5177d1d85'), ObjectId('68d27f837521d3d5177d1d86'), ObjectId('68d27f837521d3d5177d1d87'), ObjectId('68d27f837521d3d5177d1d88'), ObjectId('68d27f837521d3d5177d1d89'), ObjectId('68d27f837521d3d5177d1d8a'), ObjectId('68d27f837521d3d5177d1d8b'), ObjectId('68d27f837521d3d5177d1d8c'), ObjectId('68d27f837521d3d5177d1d8d'), ObjectId('68d27f837521d3d5177d1d8e'), ObjectId('68d27f837521d3d5177d1d8f'), ObjectId('68d27f837521d3d5177d1d90'), ObjectId('68d27f837521d3d5177d1d91'), ObjectId('68d27f837521d3d5177d1d92'), ObjectId('68d27f837521d3d5177d1d93'), ObjectId('68d27f837521d3d5177d1d94'), ObjectId('68d27f837521d3d5177d1d95'), ObjectId('68d27f837521d3d5177d1d96'), ObjectId('68d27f837521d3d5177d1d97'), ObjectId('68d27f837521d3d5177d1d98'), ObjectId('68d27f837521d3d5177d1d99'), ObjectId('68d27f837521d3d5177d1d9a'), ObjectId('68d27f837521d3d5177d1d9b'), ObjectId('68d27f837521d3d5177d1d9c'), ObjectId('68d27f837521d3d5177d1d9d'), ObjectId('68d27f837521d3d5177d1d9e'), ObjectId('68d27f837521d3d5177d1d9f'), ObjectId('68d27f837521d3d5177d1da0'), ObjectId('68d27f837521d3d5177d1da1'), ObjectId('68d27f837521d3d5177d1da2'), ObjectId('68d27f837521d3d5177d1da3'), ObjectId('68d27f837521d3d5177d1da4'), ObjectId('68d27f837521d3d5177d1da5'), ObjectId('68d27f837521d3d5177d1da6'), ObjectId('68d27f837521d3d5177d1da7'), ObjectId('68d27f837521d3d5177d1da8'), ObjectId('68d27f837521d3d5177d1da9'), ObjectId('68d27f837521d3d5177d1daa'), ObjectId('68d27f837521d3d5177d1dab'), ObjectId('68d27f837521d3d5177d1dac'), ObjectId('68d27f837521d3d5177d1dad'), ObjectId('68d27f837521d3d5177d1dae'), ObjectId('68d27f837521d3d5177d1daf'), ObjectId('68d27f837521d3d5177d1db0'), ObjectId('68d27f837521d3d5177d1db1'), ObjectId('68d27f837521d3d5177d1db2'), ObjectId('68d27f837521d3d5177d1db3'), ObjectId('68d27f837521d3d5177d1db4'), ObjectId('68d27f837521d3d5177d1db5'), ObjectId('68d27f837521d3d5177d1db6'), ObjectId('68d27f837521d3d5177d1db7'), ObjectId('68d27f837521d3d5177d1db8'), ObjectId('68d27f837521d3d5177d1db9'), ObjectId('68d27f837521d3d5177d1dba'), ObjectId('68d27f837521d3d5177d1dbb'), ObjectId('68d27f837521d3d5177d1dbc'), ObjectId('68d27f837521d3d5177d1dbd'), ObjectId('68d27f837521d3d5177d1dbe'), ObjectId('68d27f837521d3d5177d1dbf'), ObjectId('68d27f837521d3d5177d1dc0'), ObjectId('68d27f837521d3d5177d1dc1'), ObjectId('68d27f837521d3d5177d1dc2'), ObjectId('68d27f837521d3d5177d1dc3'), ObjectId('68d27f837521d3d5177d1dc4'), ObjectId('68d27f837521d3d5177d1dc5'), ObjectId('68d27f837521d3d5177d1dc6'), ObjectId('68d27f837521d3d5177d1dc7'), ObjectId('68d27f837521d3d5177d1dc8'), ObjectId('68d27f837521d3d5177d1dc9'), ObjectId('68d27f837521d3d5177d1dca'), ObjectId('68d27f837521d3d5177d1dcb'), ObjectId('68d27f837521d3d5177d1dcc'), ObjectId('68d27f837521d3d5177d1dcd'), ObjectId('68d27f837521d3d5177d1dce'), ObjectId('68d27f837521d3d5177d1dcf'), ObjectId('68d27f837521d3d5177d1dd0'), ObjectId('68d27f837521d3d5177d1dd1'), ObjectId('68d27f837521d3d5177d1dd2'), ObjectId('68d27f837521d3d5177d1dd3'), ObjectId('68d27f837521d3d5177d1dd4'), ObjectId('68d27f837521d3d5177d1dd5'), ObjectId('68d27f837521d3d5177d1dd6'), ObjectId('68d27f837521d3d5177d1dd7'), ObjectId('68d27f837521d3d5177d1dd8'), ObjectId('68d27f837521d3d5177d1dd9'), ObjectId('68d27f837521d3d5177d1dda'), ObjectId('68d27f837521d3d5177d1ddb'), ObjectId('68d27f837521d3d5177d1ddc'), ObjectId('68d27f837521d3d5177d1ddd'), ObjectId('68d27f837521d3d5177d1dde'), ObjectId('68d27f837521d3d5177d1ddf'), ObjectId('68d27f837521d3d5177d1de0'), ObjectId('68d27f837521d3d5177d1de1'), ObjectId('68d27f837521d3d5177d1de2'), ObjectId('68d27f837521d3d5177d1de3'), ObjectId('68d27f837521d3d5177d1de4'), ObjectId('68d27f837521d3d5177d1de5'), ObjectId('68d27f837521d3d5177d1de6'), ObjectId('68d27f837521d3d5177d1de7'), ObjectId('68d27f837521d3d5177d1de8'), ObjectId('68d27f837521d3d5177d1de9'), ObjectId('68d27f837521d3d5177d1dea'), ObjectId('68d27f837521d3d5177d1deb'), ObjectId('68d27f837521d3d5177d1dec'), ObjectId('68d27f837521d3d5177d1ded'), ObjectId('68d27f837521d3d5177d1dee'), ObjectId('68d27f837521d3d5177d1def'), ObjectId('68d27f837521d3d5177d1df0'), ObjectId('68d27f837521d3d5177d1df1'), ObjectId('68d27f837521d3d5177d1df2'), ObjectId('68d27f837521d3d5177d1df3'), ObjectId('68d27f837521d3d5177d1df4'), ObjectId('68d27f837521d3d5177d1df5'), ObjectId('68d27f837521d3d5177d1df6'), ObjectId('68d27f837521d3d5177d1df7'), ObjectId('68d27f837521d3d5177d1df8'), ObjectId('68d27f837521d3d5177d1df9'), ObjectId('68d27f837521d3d5177d1dfa'), ObjectId('68d27f837521d3d5177d1dfb'), ObjectId('68d27f837521d3d5177d1dfc'), ObjectId('68d27f837521d3d5177d1dfd'), ObjectId('68d27f837521d3d5177d1dfe'), ObjectId('68d27f837521d3d5177d1dff'), ObjectId('68d27f837521d3d5177d1e00'), ObjectId('68d27f837521d3d5177d1e01'), ObjectId('68d27f837521d3d5177d1e02'), ObjectId('68d27f837521d3d5177d1e03'), ObjectId('68d27f837521d3d5177d1e04'), ObjectId('68d27f837521d3d5177d1e05'), ObjectId('68d27f837521d3d5177d1e06'), ObjectId('68d27f837521d3d5177d1e07'), ObjectId('68d27f837521d3d5177d1e08'), ObjectId('68d27f837521d3d5177d1e09'), ObjectId('68d27f837521d3d5177d1e0a'), ObjectId('68d27f837521d3d5177d1e0b'), ObjectId('68d27f837521d3d5177d1e0c'), ObjectId('68d27f837521d3d5177d1e0d'), ObjectId('68d27f837521d3d5177d1e0e'), ObjectId('68d27f837521d3d5177d1e0f'), ObjectId('68d27f837521d3d5177d1e10'), ObjectId('68d27f837521d3d5177d1e11'), ObjectId('68d27f837521d3d5177d1e12'), ObjectId('68d27f837521d3d5177d1e13'), ObjectId('68d27f837521d3d5177d1e14'), ObjectId('68d27f837521d3d5177d1e15'), ObjectId('68d27f837521d3d5177d1e16'), ObjectId('68d27f837521d3d5177d1e17'), ObjectId('68d27f837521d3d5177d1e18'), ObjectId('68d27f837521d3d5177d1e19'), ObjectId('68d27f837521d3d5177d1e1a'), ObjectId('68d27f837521d3d5177d1e1b'), ObjectId('68d27f837521d3d5177d1e1c'), ObjectId('68d27f837521d3d5177d1e1d'), ObjectId('68d27f837521d3d5177d1e1e'), ObjectId('68d27f837521d3d5177d1e1f'), ObjectId('68d27f837521d3d5177d1e20'), ObjectId('68d27f837521d3d5177d1e21'), ObjectId('68d27f837521d3d5177d1e22'), ObjectId('68d27f837521d3d5177d1e23'), ObjectId('68d27f837521d3d5177d1e24'), ObjectId('68d27f837521d3d5177d1e25'), ObjectId('68d27f837521d3d5177d1e26'), ObjectId('68d27f837521d3d5177d1e27'), ObjectId('68d27f837521d3d5177d1e28'), ObjectId('68d27f837521d3d5177d1e29'), ObjectId('68d27f837521d3d5177d1e2a'), ObjectId('68d27f837521d3d5177d1e2b'), ObjectId('68d27f837521d3d5177d1e2c'), ObjectId('68d27f837521d3d5177d1e2d'), ObjectId('68d27f837521d3d5177d1e2e'), ObjectId('68d27f837521d3d5177d1e2f'), ObjectId('68d27f837521d3d5177d1e30'), ObjectId('68d27f837521d3d5177d1e31'), ObjectId('68d27f837521d3d5177d1e32'), ObjectId('68d27f837521d3d5177d1e33'), ObjectId('68d27f837521d3d5177d1e34'), ObjectId('68d27f837521d3d5177d1e35'), ObjectId('68d27f837521d3d5177d1e36'), ObjectId('68d27f837521d3d5177d1e37'), ObjectId('68d27f837521d3d5177d1e38'), ObjectId('68d27f837521d3d5177d1e39'), ObjectId('68d27f837521d3d5177d1e3a'), ObjectId('68d27f837521d3d5177d1e3b'), ObjectId('68d27f837521d3d5177d1e3c'), ObjectId('68d27f837521d3d5177d1e3d'), ObjectId('68d27f837521d3d5177d1e3e'), ObjectId('68d27f837521d3d5177d1e3f'), ObjectId('68d27f837521d3d5177d1e40'), ObjectId('68d27f837521d3d5177d1e41'), ObjectId('68d27f837521d3d5177d1e42'), ObjectId('68d27f837521d3d5177d1e43'), ObjectId('68d27f837521d3d5177d1e44'), ObjectId('68d27f837521d3d5177d1e45'), ObjectId('68d27f837521d3d5177d1e46'), ObjectId('68d27f837521d3d5177d1e47'), ObjectId('68d27f837521d3d5177d1e48'), ObjectId('68d27f837521d3d5177d1e49'), ObjectId('68d27f837521d3d5177d1e4a'), ObjectId('68d27f837521d3d5177d1e4b'), ObjectId('68d27f837521d3d5177d1e4c'), ObjectId('68d27f837521d3d5177d1e4d'), ObjectId('68d27f837521d3d5177d1e4e'), ObjectId('68d27f837521d3d5177d1e4f'), ObjectId('68d27f837521d3d5177d1e50'), ObjectId('68d27f837521d3d5177d1e51'), ObjectId('68d27f837521d3d5177d1e52'), ObjectId('68d27f837521d3d5177d1e53'), ObjectId('68d27f837521d3d5177d1e54'), ObjectId('68d27f837521d3d5177d1e55'), ObjectId('68d27f837521d3d5177d1e56'), ObjectId('68d27f837521d3d5177d1e57'), ObjectId('68d27f837521d3d5177d1e58'), ObjectId('68d27f837521d3d5177d1e59'), ObjectId('68d27f837521d3d5177d1e5a'), ObjectId('68d27f837521d3d5177d1e5b'), ObjectId('68d27f837521d3d5177d1e5c'), ObjectId('68d27f837521d3d5177d1e5d'), ObjectId('68d27f837521d3d5177d1e5e'), ObjectId('68d27f837521d3d5177d1e5f'), ObjectId('68d27f837521d3d5177d1e60'), ObjectId('68d27f837521d3d5177d1e61'), ObjectId('68d27f837521d3d5177d1e62'), ObjectId('68d27f837521d3d5177d1e63'), ObjectId('68d27f837521d3d5177d1e64'), ObjectId('68d27f837521d3d5177d1e65'), ObjectId('68d27f837521d3d5177d1e66'), ObjectId('68d27f837521d3d5177d1e67'), ObjectId('68d27f837521d3d5177d1e68'), ObjectId('68d27f837521d3d5177d1e69'), ObjectId('68d27f837521d3d5177d1e6a'), ObjectId('68d27f837521d3d5177d1e6b'), ObjectId('68d27f837521d3d5177d1e6c'), ObjectId('68d27f837521d3d5177d1e6d'), ObjectId('68d27f837521d3d5177d1e6e'), ObjectId('68d27f837521d3d5177d1e6f'), ObjectId('68d27f837521d3d5177d1e70'), ObjectId('68d27f837521d3d5177d1e71'), ObjectId('68d27f837521d3d5177d1e72'), ObjectId('68d27f837521d3d5177d1e73'), ObjectId('68d27f837521d3d5177d1e74'), ObjectId('68d27f837521d3d5177d1e75'), ObjectId('68d27f837521d3d5177d1e76'), ObjectId('68d27f837521d3d5177d1e77'), ObjectId('68d27f837521d3d5177d1e78'), ObjectId('68d27f837521d3d5177d1e79'), ObjectId('68d27f837521d3d5177d1e7a'), ObjectId('68d27f837521d3d5177d1e7b'), ObjectId('68d27f837521d3d5177d1e7c'), ObjectId('68d27f837521d3d5177d1e7d'), ObjectId('68d27f837521d3d5177d1e7e'), ObjectId('68d27f837521d3d5177d1e7f'), ObjectId('68d27f837521d3d5177d1e80'), ObjectId('68d27f837521d3d5177d1e81'), ObjectId('68d27f837521d3d5177d1e82'), ObjectId('68d27f837521d3d5177d1e83'), ObjectId('68d27f837521d3d5177d1e84'), ObjectId('68d27f837521d3d5177d1e85'), ObjectId('68d27f837521d3d5177d1e86'), ObjectId('68d27f837521d3d5177d1e87'), ObjectId('68d27f837521d3d5177d1e88'), ObjectId('68d27f837521d3d5177d1e89'), ObjectId('68d27f837521d3d5177d1e8a'), ObjectId('68d27f837521d3d5177d1e8b'), ObjectId('68d27f837521d3d5177d1e8c'), ObjectId('68d27f837521d3d5177d1e8d'), ObjectId('68d27f837521d3d5177d1e8e'), ObjectId('68d27f837521d3d5177d1e8f'), ObjectId('68d27f837521d3d5177d1e90'), ObjectId('68d27f837521d3d5177d1e91'), ObjectId('68d27f837521d3d5177d1e92'), ObjectId('68d27f837521d3d5177d1e93'), ObjectId('68d27f837521d3d5177d1e94'), ObjectId('68d27f837521d3d5177d1e95'), ObjectId('68d27f837521d3d5177d1e96'), ObjectId('68d27f837521d3d5177d1e97'), ObjectId('68d27f837521d3d5177d1e98'), ObjectId('68d27f837521d3d5177d1e99'), ObjectId('68d27f837521d3d5177d1e9a'), ObjectId('68d27f837521d3d5177d1e9b'), ObjectId('68d27f837521d3d5177d1e9c'), ObjectId('68d27f837521d3d5177d1e9d'), ObjectId('68d27f837521d3d5177d1e9e'), ObjectId('68d27f837521d3d5177d1e9f'), ObjectId('68d27f837521d3d5177d1ea0'), ObjectId('68d27f837521d3d5177d1ea1'), ObjectId('68d27f837521d3d5177d1ea2'), ObjectId('68d27f837521d3d5177d1ea3'), ObjectId('68d27f837521d3d5177d1ea4'), ObjectId('68d27f837521d3d5177d1ea5'), ObjectId('68d27f837521d3d5177d1ea6'), ObjectId('68d27f837521d3d5177d1ea7'), ObjectId('68d27f837521d3d5177d1ea8'), ObjectId('68d27f837521d3d5177d1ea9'), ObjectId('68d27f837521d3d5177d1eaa'), ObjectId('68d27f837521d3d5177d1eab'), ObjectId('68d27f837521d3d5177d1eac'), ObjectId('68d27f837521d3d5177d1ead'), ObjectId('68d27f837521d3d5177d1eae'), ObjectId('68d27f837521d3d5177d1eaf'), ObjectId('68d27f837521d3d5177d1eb0'), ObjectId('68d27f837521d3d5177d1eb1'), ObjectId('68d27f837521d3d5177d1eb2'), ObjectId('68d27f837521d3d5177d1eb3'), ObjectId('68d27f837521d3d5177d1eb4'), ObjectId('68d27f837521d3d5177d1eb5'), ObjectId('68d27f837521d3d5177d1eb6'), ObjectId('68d27f837521d3d5177d1eb7'), ObjectId('68d27f837521d3d5177d1eb8'), ObjectId('68d27f837521d3d5177d1eb9'), ObjectId('68d27f837521d3d5177d1eba'), ObjectId('68d27f837521d3d5177d1ebb'), ObjectId('68d27f837521d3d5177d1ebc'), ObjectId('68d27f837521d3d5177d1ebd'), ObjectId('68d27f837521d3d5177d1ebe'), ObjectId('68d27f837521d3d5177d1ebf'), ObjectId('68d27f837521d3d5177d1ec0'), ObjectId('68d27f837521d3d5177d1ec1'), ObjectId('68d27f837521d3d5177d1ec2'), ObjectId('68d27f837521d3d5177d1ec3'), ObjectId('68d27f837521d3d5177d1ec4'), ObjectId('68d27f837521d3d5177d1ec5'), ObjectId('68d27f837521d3d5177d1ec6'), ObjectId('68d27f837521d3d5177d1ec7'), ObjectId('68d27f837521d3d5177d1ec8'), ObjectId('68d27f837521d3d5177d1ec9'), ObjectId('68d27f837521d3d5177d1eca'), ObjectId('68d27f837521d3d5177d1ecb'), ObjectId('68d27f837521d3d5177d1ecc'), ObjectId('68d27f837521d3d5177d1ecd'), ObjectId('68d27f837521d3d5177d1ece'), ObjectId('68d27f837521d3d5177d1ecf'), ObjectId('68d27f837521d3d5177d1ed0'), ObjectId('68d27f837521d3d5177d1ed1'), ObjectId('68d27f837521d3d5177d1ed2'), ObjectId('68d27f837521d3d5177d1ed3'), ObjectId('68d27f837521d3d5177d1ed4'), ObjectId('68d27f837521d3d5177d1ed5'), ObjectId('68d27f837521d3d5177d1ed6'), ObjectId('68d27f837521d3d5177d1ed7'), ObjectId('68d27f837521d3d5177d1ed8'), ObjectId('68d27f837521d3d5177d1ed9'), ObjectId('68d27f837521d3d5177d1eda'), ObjectId('68d27f837521d3d5177d1edb'), ObjectId('68d27f837521d3d5177d1edc'), ObjectId('68d27f837521d3d5177d1edd'), ObjectId('68d27f837521d3d5177d1ede'), ObjectId('68d27f837521d3d5177d1edf'), ObjectId('68d27f837521d3d5177d1ee0'), ObjectId('68d27f837521d3d5177d1ee1'), ObjectId('68d27f837521d3d5177d1ee2'), ObjectId('68d27f837521d3d5177d1ee3'), ObjectId('68d27f837521d3d5177d1ee4'), ObjectId('68d27f837521d3d5177d1ee5'), ObjectId('68d27f837521d3d5177d1ee6'), ObjectId('68d27f837521d3d5177d1ee7'), ObjectId('68d27f837521d3d5177d1ee8'), ObjectId('68d27f837521d3d5177d1ee9'), ObjectId('68d27f837521d3d5177d1eea'), ObjectId('68d27f837521d3d5177d1eeb'), ObjectId('68d27f837521d3d5177d1eec'), ObjectId('68d27f837521d3d5177d1eed'), ObjectId('68d27f837521d3d5177d1eee'), ObjectId('68d27f837521d3d5177d1eef'), ObjectId('68d27f837521d3d5177d1ef0'), ObjectId('68d27f837521d3d5177d1ef1'), ObjectId('68d27f837521d3d5177d1ef2'), ObjectId('68d27f837521d3d5177d1ef3'), ObjectId('68d27f837521d3d5177d1ef4'), ObjectId('68d27f837521d3d5177d1ef5'), ObjectId('68d27f837521d3d5177d1ef6'), ObjectId('68d27f837521d3d5177d1ef7'), ObjectId('68d27f837521d3d5177d1ef8'), ObjectId('68d27f837521d3d5177d1ef9'), ObjectId('68d27f837521d3d5177d1efa'), ObjectId('68d27f837521d3d5177d1efb'), ObjectId('68d27f837521d3d5177d1efc'), ObjectId('68d27f837521d3d5177d1efd'), ObjectId('68d27f837521d3d5177d1efe'), ObjectId('68d27f837521d3d5177d1eff'), ObjectId('68d27f837521d3d5177d1f00'), ObjectId('68d27f837521d3d5177d1f01'), ObjectId('68d27f837521d3d5177d1f02'), ObjectId('68d27f837521d3d5177d1f03'), ObjectId('68d27f837521d3d5177d1f04'), ObjectId('68d27f837521d3d5177d1f05'), ObjectId('68d27f837521d3d5177d1f06'), ObjectId('68d27f837521d3d5177d1f07'), ObjectId('68d27f837521d3d5177d1f08'), ObjectId('68d27f837521d3d5177d1f09'), ObjectId('68d27f837521d3d5177d1f0a'), ObjectId('68d27f837521d3d5177d1f0b'), ObjectId('68d27f837521d3d5177d1f0c'), ObjectId('68d27f837521d3d5177d1f0d'), ObjectId('68d27f837521d3d5177d1f0e'), ObjectId('68d27f837521d3d5177d1f0f'), ObjectId('68d27f837521d3d5177d1f10'), ObjectId('68d27f837521d3d5177d1f11'), ObjectId('68d27f837521d3d5177d1f12'), ObjectId('68d27f837521d3d5177d1f13'), ObjectId('68d27f837521d3d5177d1f14'), ObjectId('68d27f837521d3d5177d1f15'), ObjectId('68d27f837521d3d5177d1f16'), ObjectId('68d27f837521d3d5177d1f17'), ObjectId('68d27f837521d3d5177d1f18'), ObjectId('68d27f837521d3d5177d1f19'), ObjectId('68d27f837521d3d5177d1f1a'), ObjectId('68d27f837521d3d5177d1f1b'), ObjectId('68d27f837521d3d5177d1f1c'), ObjectId('68d27f837521d3d5177d1f1d'), ObjectId('68d27f837521d3d5177d1f1e'), ObjectId('68d27f837521d3d5177d1f1f'), ObjectId('68d27f837521d3d5177d1f20'), ObjectId('68d27f837521d3d5177d1f21'), ObjectId('68d27f837521d3d5177d1f22'), ObjectId('68d27f837521d3d5177d1f23'), ObjectId('68d27f837521d3d5177d1f24'), ObjectId('68d27f837521d3d5177d1f25'), ObjectId('68d27f837521d3d5177d1f26'), ObjectId('68d27f837521d3d5177d1f27'), ObjectId('68d27f837521d3d5177d1f28'), ObjectId('68d27f837521d3d5177d1f29'), ObjectId('68d27f837521d3d5177d1f2a'), ObjectId('68d27f837521d3d5177d1f2b'), ObjectId('68d27f837521d3d5177d1f2c'), ObjectId('68d27f837521d3d5177d1f2d'), ObjectId('68d27f837521d3d5177d1f2e'), ObjectId('68d27f837521d3d5177d1f2f'), ObjectId('68d27f837521d3d5177d1f30'), ObjectId('68d27f837521d3d5177d1f31'), ObjectId('68d27f837521d3d5177d1f32'), ObjectId('68d27f837521d3d5177d1f33'), ObjectId('68d27f837521d3d5177d1f34'), ObjectId('68d27f837521d3d5177d1f35'), ObjectId('68d27f837521d3d5177d1f36'), ObjectId('68d27f837521d3d5177d1f37'), ObjectId('68d27f837521d3d5177d1f38'), ObjectId('68d27f837521d3d5177d1f39'), ObjectId('68d27f837521d3d5177d1f3a'), ObjectId('68d27f837521d3d5177d1f3b'), ObjectId('68d27f837521d3d5177d1f3c'), ObjectId('68d27f837521d3d5177d1f3d'), ObjectId('68d27f837521d3d5177d1f3e'), ObjectId('68d27f837521d3d5177d1f3f'), ObjectId('68d27f837521d3d5177d1f40'), ObjectId('68d27f837521d3d5177d1f41'), ObjectId('68d27f837521d3d5177d1f42'), ObjectId('68d27f837521d3d5177d1f43'), ObjectId('68d27f837521d3d5177d1f44'), ObjectId('68d27f837521d3d5177d1f45'), ObjectId('68d27f837521d3d5177d1f46'), ObjectId('68d27f837521d3d5177d1f47'), ObjectId('68d27f837521d3d5177d1f48'), ObjectId('68d27f837521d3d5177d1f49'), ObjectId('68d27f837521d3d5177d1f4a'), ObjectId('68d27f837521d3d5177d1f4b'), ObjectId('68d27f837521d3d5177d1f4c'), ObjectId('68d27f837521d3d5177d1f4d'), ObjectId('68d27f837521d3d5177d1f4e'), ObjectId('68d27f837521d3d5177d1f4f'), ObjectId('68d27f837521d3d5177d1f50'), ObjectId('68d27f837521d3d5177d1f51'), ObjectId('68d27f837521d3d5177d1f52'), ObjectId('68d27f837521d3d5177d1f53'), ObjectId('68d27f837521d3d5177d1f54'), ObjectId('68d27f837521d3d5177d1f55'), ObjectId('68d27f837521d3d5177d1f56'), ObjectId('68d27f837521d3d5177d1f57'), ObjectId('68d27f837521d3d5177d1f58'), ObjectId('68d27f837521d3d5177d1f59'), ObjectId('68d27f837521d3d5177d1f5a'), ObjectId('68d27f837521d3d5177d1f5b'), ObjectId('68d27f837521d3d5177d1f5c'), ObjectId('68d27f837521d3d5177d1f5d'), ObjectId('68d27f837521d3d5177d1f5e'), ObjectId('68d27f837521d3d5177d1f5f'), ObjectId('68d27f837521d3d5177d1f60'), ObjectId('68d27f837521d3d5177d1f61'), ObjectId('68d27f837521d3d5177d1f62'), ObjectId('68d27f837521d3d5177d1f63'), ObjectId('68d27f837521d3d5177d1f64'), ObjectId('68d27f837521d3d5177d1f65'), ObjectId('68d27f837521d3d5177d1f66'), ObjectId('68d27f837521d3d5177d1f67'), ObjectId('68d27f837521d3d5177d1f68'), ObjectId('68d27f837521d3d5177d1f69'), ObjectId('68d27f837521d3d5177d1f6a'), ObjectId('68d27f837521d3d5177d1f6b'), ObjectId('68d27f837521d3d5177d1f6c'), ObjectId('68d27f837521d3d5177d1f6d'), ObjectId('68d27f837521d3d5177d1f6e'), ObjectId('68d27f837521d3d5177d1f6f'), ObjectId('68d27f837521d3d5177d1f70'), ObjectId('68d27f837521d3d5177d1f71'), ObjectId('68d27f837521d3d5177d1f72'), ObjectId('68d27f837521d3d5177d1f73'), ObjectId('68d27f837521d3d5177d1f74'), ObjectId('68d27f837521d3d5177d1f75'), ObjectId('68d27f837521d3d5177d1f76'), ObjectId('68d27f837521d3d5177d1f77'), ObjectId('68d27f837521d3d5177d1f78'), ObjectId('68d27f837521d3d5177d1f79'), ObjectId('68d27f837521d3d5177d1f7a'), ObjectId('68d27f837521d3d5177d1f7b'), ObjectId('68d27f837521d3d5177d1f7c'), ObjectId('68d27f837521d3d5177d1f7d'), ObjectId('68d27f837521d3d5177d1f7e'), ObjectId('68d27f837521d3d5177d1f7f'), ObjectId('68d27f837521d3d5177d1f80'), ObjectId('68d27f837521d3d5177d1f81'), ObjectId('68d27f837521d3d5177d1f82'), ObjectId('68d27f837521d3d5177d1f83'), ObjectId('68d27f837521d3d5177d1f84'), ObjectId('68d27f837521d3d5177d1f85'), ObjectId('68d27f837521d3d5177d1f86'), ObjectId('68d27f837521d3d5177d1f87'), ObjectId('68d27f837521d3d5177d1f88'), ObjectId('68d27f837521d3d5177d1f89'), ObjectId('68d27f837521d3d5177d1f8a'), ObjectId('68d27f837521d3d5177d1f8b'), ObjectId('68d27f837521d3d5177d1f8c'), ObjectId('68d27f837521d3d5177d1f8d'), ObjectId('68d27f837521d3d5177d1f8e'), ObjectId('68d27f837521d3d5177d1f8f'), ObjectId('68d27f837521d3d5177d1f90'), ObjectId('68d27f837521d3d5177d1f91'), ObjectId('68d27f837521d3d5177d1f92'), ObjectId('68d27f837521d3d5177d1f93'), ObjectId('68d27f837521d3d5177d1f94'), ObjectId('68d27f837521d3d5177d1f95'), ObjectId('68d27f837521d3d5177d1f96'), ObjectId('68d27f837521d3d5177d1f97'), ObjectId('68d27f837521d3d5177d1f98'), ObjectId('68d27f837521d3d5177d1f99'), ObjectId('68d27f837521d3d5177d1f9a'), ObjectId('68d27f837521d3d5177d1f9b'), ObjectId('68d27f837521d3d5177d1f9c'), ObjectId('68d27f837521d3d5177d1f9d'), ObjectId('68d27f837521d3d5177d1f9e'), ObjectId('68d27f837521d3d5177d1f9f'), ObjectId('68d27f837521d3d5177d1fa0'), ObjectId('68d27f837521d3d5177d1fa1'), ObjectId('68d27f837521d3d5177d1fa2'), ObjectId('68d27f837521d3d5177d1fa3'), ObjectId('68d27f837521d3d5177d1fa4'), ObjectId('68d27f837521d3d5177d1fa5'), ObjectId('68d27f837521d3d5177d1fa6'), ObjectId('68d27f837521d3d5177d1fa7'), ObjectId('68d27f837521d3d5177d1fa8'), ObjectId('68d27f837521d3d5177d1fa9'), ObjectId('68d27f837521d3d5177d1faa'), ObjectId('68d27f837521d3d5177d1fab'), ObjectId('68d27f837521d3d5177d1fac'), ObjectId('68d27f837521d3d5177d1fad'), ObjectId('68d27f837521d3d5177d1fae'), ObjectId('68d27f837521d3d5177d1faf'), ObjectId('68d27f837521d3d5177d1fb0'), ObjectId('68d27f837521d3d5177d1fb1'), ObjectId('68d27f837521d3d5177d1fb2'), ObjectId('68d27f837521d3d5177d1fb3'), ObjectId('68d27f837521d3d5177d1fb4'), ObjectId('68d27f837521d3d5177d1fb5'), ObjectId('68d27f837521d3d5177d1fb6'), ObjectId('68d27f837521d3d5177d1fb7'), ObjectId('68d27f837521d3d5177d1fb8'), ObjectId('68d27f837521d3d5177d1fb9'), ObjectId('68d27f837521d3d5177d1fba'), ObjectId('68d27f837521d3d5177d1fbb'), ObjectId('68d27f837521d3d5177d1fbc'), ObjectId('68d27f837521d3d5177d1fbd'), ObjectId('68d27f837521d3d5177d1fbe'), ObjectId('68d27f837521d3d5177d1fbf'), ObjectId('68d27f837521d3d5177d1fc0'), ObjectId('68d27f837521d3d5177d1fc1'), ObjectId('68d27f837521d3d5177d1fc2'), ObjectId('68d27f837521d3d5177d1fc3'), ObjectId('68d27f837521d3d5177d1fc4'), ObjectId('68d27f837521d3d5177d1fc5'), ObjectId('68d27f837521d3d5177d1fc6'), ObjectId('68d27f837521d3d5177d1fc7'), ObjectId('68d27f837521d3d5177d1fc8'), ObjectId('68d27f837521d3d5177d1fc9'), ObjectId('68d27f837521d3d5177d1fca'), ObjectId('68d27f837521d3d5177d1fcb'), ObjectId('68d27f837521d3d5177d1fcc'), ObjectId('68d27f837521d3d5177d1fcd'), ObjectId('68d27f837521d3d5177d1fce'), ObjectId('68d27f837521d3d5177d1fcf'), ObjectId('68d27f837521d3d5177d1fd0'), ObjectId('68d27f837521d3d5177d1fd1'), ObjectId('68d27f837521d3d5177d1fd2'), ObjectId('68d27f837521d3d5177d1fd3'), ObjectId('68d27f837521d3d5177d1fd4'), ObjectId('68d27f837521d3d5177d1fd5'), ObjectId('68d27f837521d3d5177d1fd6'), ObjectId('68d27f837521d3d5177d1fd7'), ObjectId('68d27f837521d3d5177d1fd8'), ObjectId('68d27f837521d3d5177d1fd9'), ObjectId('68d27f837521d3d5177d1fda'), ObjectId('68d27f837521d3d5177d1fdb'), ObjectId('68d27f837521d3d5177d1fdc'), ObjectId('68d27f837521d3d5177d1fdd'), ObjectId('68d27f837521d3d5177d1fde'), ObjectId('68d27f837521d3d5177d1fdf'), ObjectId('68d27f837521d3d5177d1fe0'), ObjectId('68d27f837521d3d5177d1fe1'), ObjectId('68d27f837521d3d5177d1fe2'), ObjectId('68d27f837521d3d5177d1fe3'), ObjectId('68d27f837521d3d5177d1fe4'), ObjectId('68d27f837521d3d5177d1fe5'), ObjectId('68d27f837521d3d5177d1fe6'), ObjectId('68d27f837521d3d5177d1fe7'), ObjectId('68d27f837521d3d5177d1fe8'), ObjectId('68d27f837521d3d5177d1fe9'), ObjectId('68d27f837521d3d5177d1fea'), ObjectId('68d27f837521d3d5177d1feb'), ObjectId('68d27f837521d3d5177d1fec'), ObjectId('68d27f837521d3d5177d1fed'), ObjectId('68d27f837521d3d5177d1fee'), ObjectId('68d27f837521d3d5177d1fef'), ObjectId('68d27f837521d3d5177d1ff0'), ObjectId('68d27f837521d3d5177d1ff1'), ObjectId('68d27f837521d3d5177d1ff2'), ObjectId('68d27f837521d3d5177d1ff3'), ObjectId('68d27f837521d3d5177d1ff4'), ObjectId('68d27f837521d3d5177d1ff5'), ObjectId('68d27f837521d3d5177d1ff6'), ObjectId('68d27f837521d3d5177d1ff7'), ObjectId('68d27f837521d3d5177d1ff8'), ObjectId('68d27f837521d3d5177d1ff9'), ObjectId('68d27f837521d3d5177d1ffa'), ObjectId('68d27f837521d3d5177d1ffb'), ObjectId('68d27f837521d3d5177d1ffc'), ObjectId('68d27f837521d3d5177d1ffd'), ObjectId('68d27f837521d3d5177d1ffe'), ObjectId('68d27f837521d3d5177d1fff'), ObjectId('68d27f837521d3d5177d2000'), ObjectId('68d27f837521d3d5177d2001'), ObjectId('68d27f837521d3d5177d2002'), ObjectId('68d27f837521d3d5177d2003'), ObjectId('68d27f837521d3d5177d2004'), ObjectId('68d27f837521d3d5177d2005'), ObjectId('68d27f837521d3d5177d2006'), ObjectId('68d27f837521d3d5177d2007'), ObjectId('68d27f837521d3d5177d2008'), ObjectId('68d27f837521d3d5177d2009'), ObjectId('68d27f837521d3d5177d200a'), ObjectId('68d27f837521d3d5177d200b'), ObjectId('68d27f837521d3d5177d200c'), ObjectId('68d27f837521d3d5177d200d'), ObjectId('68d27f837521d3d5177d200e'), ObjectId('68d27f837521d3d5177d200f'), ObjectId('68d27f837521d3d5177d2010'), ObjectId('68d27f837521d3d5177d2011'), ObjectId('68d27f837521d3d5177d2012'), ObjectId('68d27f837521d3d5177d2013'), ObjectId('68d27f837521d3d5177d2014'), ObjectId('68d27f837521d3d5177d2015'), ObjectId('68d27f837521d3d5177d2016'), ObjectId('68d27f837521d3d5177d2017'), ObjectId('68d27f837521d3d5177d2018'), ObjectId('68d27f837521d3d5177d2019'), ObjectId('68d27f837521d3d5177d201a'), ObjectId('68d27f837521d3d5177d201b'), ObjectId('68d27f837521d3d5177d201c'), ObjectId('68d27f837521d3d5177d201d'), ObjectId('68d27f837521d3d5177d201e'), ObjectId('68d27f837521d3d5177d201f'), ObjectId('68d27f837521d3d5177d2020'), ObjectId('68d27f837521d3d5177d2021'), ObjectId('68d27f837521d3d5177d2022'), ObjectId('68d27f837521d3d5177d2023'), ObjectId('68d27f837521d3d5177d2024'), ObjectId('68d27f837521d3d5177d2025'), ObjectId('68d27f837521d3d5177d2026'), ObjectId('68d27f837521d3d5177d2027'), ObjectId('68d27f837521d3d5177d2028'), ObjectId('68d27f837521d3d5177d2029'), ObjectId('68d27f837521d3d5177d202a'), ObjectId('68d27f837521d3d5177d202b'), ObjectId('68d27f837521d3d5177d202c'), ObjectId('68d27f837521d3d5177d202d'), ObjectId('68d27f837521d3d5177d202e'), ObjectId('68d27f837521d3d5177d202f'), ObjectId('68d27f837521d3d5177d2030'), ObjectId('68d27f837521d3d5177d2031'), ObjectId('68d27f837521d3d5177d2032'), ObjectId('68d27f837521d3d5177d2033'), ObjectId('68d27f837521d3d5177d2034'), ObjectId('68d27f837521d3d5177d2035'), ObjectId('68d27f837521d3d5177d2036'), ObjectId('68d27f837521d3d5177d2037'), ObjectId('68d27f837521d3d5177d2038'), ObjectId('68d27f837521d3d5177d2039'), ObjectId('68d27f837521d3d5177d203a'), ObjectId('68d27f837521d3d5177d203b'), ObjectId('68d27f837521d3d5177d203c'), ObjectId('68d27f837521d3d5177d203d'), ObjectId('68d27f837521d3d5177d203e'), ObjectId('68d27f837521d3d5177d203f'), ObjectId('68d27f837521d3d5177d2040'), ObjectId('68d27f837521d3d5177d2041'), ObjectId('68d27f837521d3d5177d2042'), ObjectId('68d27f837521d3d5177d2043'), ObjectId('68d27f837521d3d5177d2044'), ObjectId('68d27f837521d3d5177d2045'), ObjectId('68d27f837521d3d5177d2046'), ObjectId('68d27f837521d3d5177d2047'), ObjectId('68d27f837521d3d5177d2048'), ObjectId('68d27f837521d3d5177d2049'), ObjectId('68d27f837521d3d5177d204a'), ObjectId('68d27f837521d3d5177d204b'), ObjectId('68d27f837521d3d5177d204c'), ObjectId('68d27f837521d3d5177d204d'), ObjectId('68d27f837521d3d5177d204e'), ObjectId('68d27f837521d3d5177d204f'), ObjectId('68d27f837521d3d5177d2050'), ObjectId('68d27f837521d3d5177d2051'), ObjectId('68d27f837521d3d5177d2052'), ObjectId('68d27f837521d3d5177d2053'), ObjectId('68d27f837521d3d5177d2054'), ObjectId('68d27f837521d3d5177d2055'), ObjectId('68d27f837521d3d5177d2056'), ObjectId('68d27f837521d3d5177d2057'), ObjectId('68d27f837521d3d5177d2058'), ObjectId('68d27f837521d3d5177d2059'), ObjectId('68d27f837521d3d5177d205a'), ObjectId('68d27f837521d3d5177d205b'), ObjectId('68d27f837521d3d5177d205c'), ObjectId('68d27f837521d3d5177d205d'), ObjectId('68d27f837521d3d5177d205e'), ObjectId('68d27f837521d3d5177d205f'), ObjectId('68d27f837521d3d5177d2060'), ObjectId('68d27f837521d3d5177d2061'), ObjectId('68d27f837521d3d5177d2062'), ObjectId('68d27f837521d3d5177d2063'), ObjectId('68d27f837521d3d5177d2064'), ObjectId('68d27f837521d3d5177d2065'), ObjectId('68d27f837521d3d5177d2066'), ObjectId('68d27f837521d3d5177d2067'), ObjectId('68d27f837521d3d5177d2068'), ObjectId('68d27f837521d3d5177d2069'), ObjectId('68d27f837521d3d5177d206a'), ObjectId('68d27f837521d3d5177d206b'), ObjectId('68d27f837521d3d5177d206c'), ObjectId('68d27f837521d3d5177d206d'), ObjectId('68d27f837521d3d5177d206e'), ObjectId('68d27f837521d3d5177d206f'), ObjectId('68d27f837521d3d5177d2070'), ObjectId('68d27f837521d3d5177d2071'), ObjectId('68d27f837521d3d5177d2072'), ObjectId('68d27f837521d3d5177d2073'), ObjectId('68d27f837521d3d5177d2074'), ObjectId('68d27f837521d3d5177d2075'), ObjectId('68d27f837521d3d5177d2076'), ObjectId('68d27f837521d3d5177d2077'), ObjectId('68d27f837521d3d5177d2078'), ObjectId('68d27f837521d3d5177d2079'), ObjectId('68d27f837521d3d5177d207a'), ObjectId('68d27f837521d3d5177d207b'), ObjectId('68d27f837521d3d5177d207c'), ObjectId('68d27f837521d3d5177d207d'), ObjectId('68d27f837521d3d5177d207e'), ObjectId('68d27f837521d3d5177d207f'), ObjectId('68d27f837521d3d5177d2080'), ObjectId('68d27f837521d3d5177d2081'), ObjectId('68d27f837521d3d5177d2082'), ObjectId('68d27f837521d3d5177d2083'), ObjectId('68d27f837521d3d5177d2084'), ObjectId('68d27f837521d3d5177d2085'), ObjectId('68d27f837521d3d5177d2086'), ObjectId('68d27f837521d3d5177d2087'), ObjectId('68d27f837521d3d5177d2088'), ObjectId('68d27f837521d3d5177d2089'), ObjectId('68d27f837521d3d5177d208a'), ObjectId('68d27f837521d3d5177d208b'), ObjectId('68d27f837521d3d5177d208c'), ObjectId('68d27f837521d3d5177d208d'), ObjectId('68d27f837521d3d5177d208e'), ObjectId('68d27f837521d3d5177d208f'), ObjectId('68d27f837521d3d5177d2090'), ObjectId('68d27f837521d3d5177d2091'), ObjectId('68d27f837521d3d5177d2092'), ObjectId('68d27f837521d3d5177d2093'), ObjectId('68d27f837521d3d5177d2094'), ObjectId('68d27f837521d3d5177d2095'), ObjectId('68d27f837521d3d5177d2096'), ObjectId('68d27f837521d3d5177d2097'), ObjectId('68d27f837521d3d5177d2098'), ObjectId('68d27f837521d3d5177d2099'), ObjectId('68d27f837521d3d5177d209a'), ObjectId('68d27f837521d3d5177d209b'), ObjectId('68d27f837521d3d5177d209c'), ObjectId('68d27f837521d3d5177d209d'), ObjectId('68d27f837521d3d5177d209e'), ObjectId('68d27f837521d3d5177d209f'), ObjectId('68d27f837521d3d5177d20a0'), ObjectId('68d27f837521d3d5177d20a1'), ObjectId('68d27f837521d3d5177d20a2'), ObjectId('68d27f837521d3d5177d20a3'), ObjectId('68d27f837521d3d5177d20a4'), ObjectId('68d27f837521d3d5177d20a5'), ObjectId('68d27f837521d3d5177d20a6'), ObjectId('68d27f837521d3d5177d20a7'), ObjectId('68d27f837521d3d5177d20a8'), ObjectId('68d27f837521d3d5177d20a9'), ObjectId('68d27f837521d3d5177d20aa'), ObjectId('68d27f837521d3d5177d20ab'), ObjectId('68d27f837521d3d5177d20ac'), ObjectId('68d27f837521d3d5177d20ad'), ObjectId('68d27f837521d3d5177d20ae'), ObjectId('68d27f837521d3d5177d20af'), ObjectId('68d27f837521d3d5177d20b0'), ObjectId('68d27f837521d3d5177d20b1'), ObjectId('68d27f837521d3d5177d20b2'), ObjectId('68d27f837521d3d5177d20b3'), ObjectId('68d27f837521d3d5177d20b4'), ObjectId('68d27f837521d3d5177d20b5'), ObjectId('68d27f837521d3d5177d20b6'), ObjectId('68d27f837521d3d5177d20b7'), ObjectId('68d27f837521d3d5177d20b8'), ObjectId('68d27f837521d3d5177d20b9'), ObjectId('68d27f837521d3d5177d20ba'), ObjectId('68d27f837521d3d5177d20bb'), ObjectId('68d27f837521d3d5177d20bc'), ObjectId('68d27f837521d3d5177d20bd'), ObjectId('68d27f837521d3d5177d20be'), ObjectId('68d27f837521d3d5177d20bf'), ObjectId('68d27f837521d3d5177d20c0'), ObjectId('68d27f837521d3d5177d20c1'), ObjectId('68d27f837521d3d5177d20c2'), ObjectId('68d27f837521d3d5177d20c3'), ObjectId('68d27f837521d3d5177d20c4'), ObjectId('68d27f837521d3d5177d20c5'), ObjectId('68d27f837521d3d5177d20c6'), ObjectId('68d27f837521d3d5177d20c7'), ObjectId('68d27f837521d3d5177d20c8'), ObjectId('68d27f837521d3d5177d20c9'), ObjectId('68d27f837521d3d5177d20ca'), ObjectId('68d27f837521d3d5177d20cb'), ObjectId('68d27f837521d3d5177d20cc'), ObjectId('68d27f837521d3d5177d20cd'), ObjectId('68d27f837521d3d5177d20ce'), ObjectId('68d27f837521d3d5177d20cf'), ObjectId('68d27f837521d3d5177d20d0'), ObjectId('68d27f837521d3d5177d20d1'), ObjectId('68d27f837521d3d5177d20d2'), ObjectId('68d27f837521d3d5177d20d3'), ObjectId('68d27f837521d3d5177d20d4'), ObjectId('68d27f837521d3d5177d20d5'), ObjectId('68d27f837521d3d5177d20d6'), ObjectId('68d27f837521d3d5177d20d7'), ObjectId('68d27f837521d3d5177d20d8'), ObjectId('68d27f837521d3d5177d20d9'), ObjectId('68d27f837521d3d5177d20da'), ObjectId('68d27f837521d3d5177d20db'), ObjectId('68d27f837521d3d5177d20dc'), ObjectId('68d27f837521d3d5177d20dd'), ObjectId('68d27f837521d3d5177d20de'), ObjectId('68d27f837521d3d5177d20df'), ObjectId('68d27f837521d3d5177d20e0'), ObjectId('68d27f837521d3d5177d20e1'), ObjectId('68d27f837521d3d5177d20e2'), ObjectId('68d27f837521d3d5177d20e3'), ObjectId('68d27f837521d3d5177d20e4'), ObjectId('68d27f837521d3d5177d20e5'), ObjectId('68d27f837521d3d5177d20e6'), ObjectId('68d27f837521d3d5177d20e7'), ObjectId('68d27f837521d3d5177d20e8'), ObjectId('68d27f837521d3d5177d20e9'), ObjectId('68d27f837521d3d5177d20ea'), ObjectId('68d27f837521d3d5177d20eb'), ObjectId('68d27f837521d3d5177d20ec'), ObjectId('68d27f837521d3d5177d20ed'), ObjectId('68d27f837521d3d5177d20ee'), ObjectId('68d27f837521d3d5177d20ef'), ObjectId('68d27f837521d3d5177d20f0'), ObjectId('68d27f837521d3d5177d20f1'), ObjectId('68d27f837521d3d5177d20f2'), ObjectId('68d27f837521d3d5177d20f3'), ObjectId('68d27f837521d3d5177d20f4'), ObjectId('68d27f837521d3d5177d20f5'), ObjectId('68d27f837521d3d5177d20f6'), ObjectId('68d27f837521d3d5177d20f7'), ObjectId('68d27f837521d3d5177d20f8'), ObjectId('68d27f837521d3d5177d20f9'), ObjectId('68d27f837521d3d5177d20fa'), ObjectId('68d27f837521d3d5177d20fb'), ObjectId('68d27f837521d3d5177d20fc'), ObjectId('68d27f837521d3d5177d20fd'), ObjectId('68d27f837521d3d5177d20fe'), ObjectId('68d27f837521d3d5177d20ff'), ObjectId('68d27f837521d3d5177d2100'), ObjectId('68d27f837521d3d5177d2101'), ObjectId('68d27f837521d3d5177d2102'), ObjectId('68d27f837521d3d5177d2103'), ObjectId('68d27f837521d3d5177d2104'), ObjectId('68d27f837521d3d5177d2105'), ObjectId('68d27f837521d3d5177d2106'), ObjectId('68d27f837521d3d5177d2107'), ObjectId('68d27f837521d3d5177d2108'), ObjectId('68d27f837521d3d5177d2109'), ObjectId('68d27f837521d3d5177d210a'), ObjectId('68d27f837521d3d5177d210b'), ObjectId('68d27f837521d3d5177d210c'), ObjectId('68d27f837521d3d5177d210d')], acknowledged=True)"
      ]
     },
     "execution_count": 88,
     "metadata": {},
     "output_type": "execute_result"
    }
   ],
   "source": [
    "database = client[\"CSV_FILE\"]\n",
    "collection = database['Session 2']\n",
    "\n",
    "collection.insert_many(records)\n"
   ]
  },
  {
   "cell_type": "code",
   "execution_count": 10,
   "id": "851c49cc",
   "metadata": {},
   "outputs": [
    {
     "ename": "ConfigurationError",
     "evalue": "Invalid URI host: cluster0 is not a valid hostname for 'mongodb+srv://'. Did you mean to use 'mongodb://'?",
     "output_type": "error",
     "traceback": [
      "\u001b[1;31m---------------------------------------------------------------------------\u001b[0m",
      "\u001b[1;31mConfigurationError\u001b[0m                        Traceback (most recent call last)",
      "\u001b[1;32m~\\AppData\\Local\\Temp\\ipykernel_25752\\2016002374.py\u001b[0m in \u001b[0;36m<module>\u001b[1;34m\u001b[0m\n\u001b[0;32m      7\u001b[0m \u001b[0mauthMechanism\u001b[0m \u001b[1;33m=\u001b[0m \u001b[1;34m'SCRAM-SHA-256'\u001b[0m\u001b[1;33m\u001b[0m\u001b[1;33m\u001b[0m\u001b[0m\n\u001b[0;32m      8\u001b[0m \u001b[0muri\u001b[0m \u001b[1;33m=\u001b[0m \u001b[1;34m'mongodb+srv://'\u001b[0m \u001b[1;33m+\u001b[0m \u001b[0musername\u001b[0m \u001b[1;33m+\u001b[0m \u001b[1;34m':'\u001b[0m \u001b[1;33m+\u001b[0m \u001b[0mpassword\u001b[0m \u001b[1;33m+\u001b[0m \u001b[1;34m'@'\u001b[0m \u001b[1;33m+\u001b[0m \u001b[0mcluster\u001b[0m \u001b[1;33m+\u001b[0m \u001b[1;34m'/?authSource='\u001b[0m \u001b[1;33m+\u001b[0m \u001b[0mauthSource\u001b[0m \u001b[1;33m+\u001b[0m \u001b[1;34m'&authMechanism='\u001b[0m \u001b[1;33m+\u001b[0m \u001b[0mauthMechanism\u001b[0m\u001b[1;33m\u001b[0m\u001b[1;33m\u001b[0m\u001b[0m\n\u001b[1;32m----> 9\u001b[1;33m \u001b[0mclient\u001b[0m \u001b[1;33m=\u001b[0m \u001b[0mpymongo\u001b[0m\u001b[1;33m.\u001b[0m\u001b[0mMongoClient\u001b[0m\u001b[1;33m(\u001b[0m\u001b[0muri\u001b[0m\u001b[1;33m)\u001b[0m\u001b[1;33m\u001b[0m\u001b[1;33m\u001b[0m\u001b[0m\n\u001b[0m\u001b[0;32m     10\u001b[0m \u001b[0mresult\u001b[0m \u001b[1;33m=\u001b[0m \u001b[0mclient\u001b[0m\u001b[1;33m[\u001b[0m\u001b[1;34m\"CSV_FILE\"\u001b[0m\u001b[1;33m]\u001b[0m\u001b[1;33m[\u001b[0m\u001b[1;34m\"Session 2\"\u001b[0m\u001b[1;33m]\u001b[0m\u001b[1;33m.\u001b[0m\u001b[0mfind\u001b[0m\u001b[1;33m(\u001b[0m\u001b[1;33m)\u001b[0m\u001b[1;33m\u001b[0m\u001b[1;33m\u001b[0m\u001b[0m\n\u001b[0;32m     11\u001b[0m \u001b[1;31m# print results\u001b[0m\u001b[1;33m\u001b[0m\u001b[1;33m\u001b[0m\u001b[1;33m\u001b[0m\u001b[0m\n",
      "\u001b[1;32mc:\\Users\\rgarlay\\Desktop\\DS\\Learning Python\\Mongo db\\venv\\lib\\site-packages\\pymongo\\mongo_client.py\u001b[0m in \u001b[0;36m__init__\u001b[1;34m(self, host, port, document_class, tz_aware, connect, type_registry, **kwargs)\u001b[0m\n\u001b[0;32m    780\u001b[0m                     \u001b[0mconnect_timeout\u001b[0m\u001b[1;33m=\u001b[0m\u001b[0mtimeout\u001b[0m\u001b[1;33m,\u001b[0m\u001b[1;33m\u001b[0m\u001b[1;33m\u001b[0m\u001b[0m\n\u001b[0;32m    781\u001b[0m                     \u001b[0msrv_service_name\u001b[0m\u001b[1;33m=\u001b[0m\u001b[0msrv_service_name\u001b[0m\u001b[1;33m,\u001b[0m\u001b[1;33m\u001b[0m\u001b[1;33m\u001b[0m\u001b[0m\n\u001b[1;32m--> 782\u001b[1;33m                     \u001b[0msrv_max_hosts\u001b[0m\u001b[1;33m=\u001b[0m\u001b[0msrv_max_hosts\u001b[0m\u001b[1;33m,\u001b[0m\u001b[1;33m\u001b[0m\u001b[1;33m\u001b[0m\u001b[0m\n\u001b[0m\u001b[0;32m    783\u001b[0m                 )\n\u001b[0;32m    784\u001b[0m                 \u001b[0mseeds\u001b[0m\u001b[1;33m.\u001b[0m\u001b[0mupdate\u001b[0m\u001b[1;33m(\u001b[0m\u001b[0mres\u001b[0m\u001b[1;33m[\u001b[0m\u001b[1;34m\"nodelist\"\u001b[0m\u001b[1;33m]\u001b[0m\u001b[1;33m)\u001b[0m\u001b[1;33m\u001b[0m\u001b[1;33m\u001b[0m\u001b[0m\n",
      "\u001b[1;32mc:\\Users\\rgarlay\\Desktop\\DS\\Learning Python\\Mongo db\\venv\\lib\\site-packages\\pymongo\\uri_parser.py\u001b[0m in \u001b[0;36mparse_uri\u001b[1;34m(uri, default_port, validate, warn, normalize, connect_timeout, srv_service_name, srv_max_hosts)\u001b[0m\n\u001b[0;32m    544\u001b[0m         \u001b[1;31m# argument overrides the same option passed in the connection string.\u001b[0m\u001b[1;33m\u001b[0m\u001b[1;33m\u001b[0m\u001b[1;33m\u001b[0m\u001b[0m\n\u001b[0;32m    545\u001b[0m         \u001b[0mconnect_timeout\u001b[0m \u001b[1;33m=\u001b[0m \u001b[0mconnect_timeout\u001b[0m \u001b[1;32mor\u001b[0m \u001b[0moptions\u001b[0m\u001b[1;33m.\u001b[0m\u001b[0mget\u001b[0m\u001b[1;33m(\u001b[0m\u001b[1;34m\"connectTimeoutMS\"\u001b[0m\u001b[1;33m)\u001b[0m\u001b[1;33m\u001b[0m\u001b[1;33m\u001b[0m\u001b[0m\n\u001b[1;32m--> 546\u001b[1;33m         \u001b[0mdns_resolver\u001b[0m \u001b[1;33m=\u001b[0m \u001b[0m_SrvResolver\u001b[0m\u001b[1;33m(\u001b[0m\u001b[0mfqdn\u001b[0m\u001b[1;33m,\u001b[0m \u001b[0mconnect_timeout\u001b[0m\u001b[1;33m,\u001b[0m \u001b[0msrv_service_name\u001b[0m\u001b[1;33m,\u001b[0m \u001b[0msrv_max_hosts\u001b[0m\u001b[1;33m)\u001b[0m\u001b[1;33m\u001b[0m\u001b[1;33m\u001b[0m\u001b[0m\n\u001b[0m\u001b[0;32m    547\u001b[0m         \u001b[0mnodes\u001b[0m \u001b[1;33m=\u001b[0m \u001b[0mdns_resolver\u001b[0m\u001b[1;33m.\u001b[0m\u001b[0mget_hosts\u001b[0m\u001b[1;33m(\u001b[0m\u001b[1;33m)\u001b[0m\u001b[1;33m\u001b[0m\u001b[1;33m\u001b[0m\u001b[0m\n\u001b[0;32m    548\u001b[0m         \u001b[0mdns_options\u001b[0m \u001b[1;33m=\u001b[0m \u001b[0mdns_resolver\u001b[0m\u001b[1;33m.\u001b[0m\u001b[0mget_options\u001b[0m\u001b[1;33m(\u001b[0m\u001b[1;33m)\u001b[0m\u001b[1;33m\u001b[0m\u001b[1;33m\u001b[0m\u001b[0m\n",
      "\u001b[1;32mc:\\Users\\rgarlay\\Desktop\\DS\\Learning Python\\Mongo db\\venv\\lib\\site-packages\\pymongo\\srv_resolver.py\u001b[0m in \u001b[0;36m__init__\u001b[1;34m(self, fqdn, connect_timeout, srv_service_name, srv_max_hosts)\u001b[0m\n\u001b[0;32m     86\u001b[0m         \u001b[0mself\u001b[0m\u001b[1;33m.\u001b[0m\u001b[0m__slen\u001b[0m \u001b[1;33m=\u001b[0m \u001b[0mlen\u001b[0m\u001b[1;33m(\u001b[0m\u001b[0mself\u001b[0m\u001b[1;33m.\u001b[0m\u001b[0m__plist\u001b[0m\u001b[1;33m)\u001b[0m\u001b[1;33m\u001b[0m\u001b[1;33m\u001b[0m\u001b[0m\n\u001b[0;32m     87\u001b[0m         \u001b[1;32mif\u001b[0m \u001b[0mself\u001b[0m\u001b[1;33m.\u001b[0m\u001b[0m__slen\u001b[0m \u001b[1;33m<\u001b[0m \u001b[1;36m2\u001b[0m\u001b[1;33m:\u001b[0m\u001b[1;33m\u001b[0m\u001b[1;33m\u001b[0m\u001b[0m\n\u001b[1;32m---> 88\u001b[1;33m             \u001b[1;32mraise\u001b[0m \u001b[0mConfigurationError\u001b[0m\u001b[1;33m(\u001b[0m\u001b[0m_INVALID_HOST_MSG\u001b[0m \u001b[1;33m%\u001b[0m \u001b[1;33m(\u001b[0m\u001b[0mfqdn\u001b[0m\u001b[1;33m,\u001b[0m\u001b[1;33m)\u001b[0m\u001b[1;33m)\u001b[0m\u001b[1;33m\u001b[0m\u001b[1;33m\u001b[0m\u001b[0m\n\u001b[0m\u001b[0;32m     89\u001b[0m \u001b[1;33m\u001b[0m\u001b[0m\n\u001b[0;32m     90\u001b[0m     \u001b[1;32mdef\u001b[0m \u001b[0mget_options\u001b[0m\u001b[1;33m(\u001b[0m\u001b[0mself\u001b[0m\u001b[1;33m)\u001b[0m \u001b[1;33m->\u001b[0m \u001b[0mOptional\u001b[0m\u001b[1;33m[\u001b[0m\u001b[0mstr\u001b[0m\u001b[1;33m]\u001b[0m\u001b[1;33m:\u001b[0m\u001b[1;33m\u001b[0m\u001b[1;33m\u001b[0m\u001b[0m\n",
      "\u001b[1;31mConfigurationError\u001b[0m: Invalid URI host: cluster0 is not a valid hostname for 'mongodb+srv://'. Did you mean to use 'mongodb://'?"
     ]
    }
   ],
   "source": [
    "import pymongo\n",
    "from urllib.parse import quote_plus\n",
    "username = quote_plus('ravi')\n",
    "password = quote_plus('TjPzrIux8bBLIGPT')\n",
    "cluster = 'Cluster0'\n",
    "authSource = 'admin'\n",
    "authMechanism = 'SCRAM-SHA-256'\n",
    "uri = 'mongodb+srv://' + username + ':' + password + '@' + cluster + '/?authSource=' + authSource + '&authMechanism=' + authMechanism\n",
    "client = pymongo.MongoClient(uri)\n",
    "result = client[\"CSV_FILE\"][\"Session 2\"].find()\n",
    "# print results\n",
    "for i in result:\n",
    "    print(i)"
   ]
  },
  {
   "cell_type": "code",
   "execution_count": null,
   "id": "01ef1b58",
   "metadata": {},
   "outputs": [],
   "source": []
  }
 ],
 "metadata": {
  "kernelspec": {
   "display_name": ".venv",
   "language": "python",
   "name": "python3"
  },
  "language_info": {
   "codemirror_mode": {
    "name": "ipython",
    "version": 3
   },
   "file_extension": ".py",
   "mimetype": "text/x-python",
   "name": "python",
   "nbconvert_exporter": "python",
   "pygments_lexer": "ipython3",
   "version": "3.13.7"
  }
 },
 "nbformat": 4,
 "nbformat_minor": 5
}
