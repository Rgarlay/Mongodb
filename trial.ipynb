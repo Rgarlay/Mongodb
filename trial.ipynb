{
 "cells": [
  {
   "cell_type": "code",
   "execution_count": 6,
   "id": "652ef87e",
   "metadata": {},
   "outputs": [],
   "source": [
    "import numpy as np\n",
    "import pandas as pd"
   ]
  },
  {
   "cell_type": "code",
   "execution_count": 7,
   "id": "faf70e10",
   "metadata": {},
   "outputs": [],
   "source": [
    "\n",
    "df = pd.read_csv(r'archieve\\Retail Sales Analysis.csv')\n",
    "cols_to_drop = ['transactions_id','customer_id', 'sale_date','sale_time']\n",
    "\n",
    "df.drop(columns = cols_to_drop, inplace=True)"
   ]
  },
  {
   "cell_type": "code",
   "execution_count": 8,
   "id": "63a39a67",
   "metadata": {},
   "outputs": [],
   "source": [
    "df = df.dropna()"
   ]
  },
  {
   "cell_type": "code",
   "execution_count": 9,
   "metadata": {},
   "outputs": [],
   "source": [
    "df['gender'] = df['gender'].apply(lambda x: 1 if x=='Male' else 0)"
   ]
  },
  {
   "cell_type": "code",
   "execution_count": 10,
   "id": "a5984e2f",
   "metadata": {},
   "outputs": [
    {
     "data": {
      "text/html": [
       "<div>\n",
       "<style scoped>\n",
       "    .dataframe tbody tr th:only-of-type {\n",
       "        vertical-align: middle;\n",
       "    }\n",
       "\n",
       "    .dataframe tbody tr th {\n",
       "        vertical-align: top;\n",
       "    }\n",
       "\n",
       "    .dataframe thead th {\n",
       "        text-align: right;\n",
       "    }\n",
       "</style>\n",
       "<table border=\"1\" class=\"dataframe\">\n",
       "  <thead>\n",
       "    <tr style=\"text-align: right;\">\n",
       "      <th></th>\n",
       "      <th>gender</th>\n",
       "      <th>age</th>\n",
       "      <th>category</th>\n",
       "      <th>quantiy</th>\n",
       "      <th>price_per_unit</th>\n",
       "      <th>cogs</th>\n",
       "      <th>total_sale</th>\n",
       "    </tr>\n",
       "  </thead>\n",
       "  <tbody>\n",
       "    <tr>\n",
       "      <th>0</th>\n",
       "      <td>1</td>\n",
       "      <td>41.0</td>\n",
       "      <td>Clothing</td>\n",
       "      <td>3.0</td>\n",
       "      <td>300.0</td>\n",
       "      <td>129.0</td>\n",
       "      <td>900.0</td>\n",
       "    </tr>\n",
       "    <tr>\n",
       "      <th>1</th>\n",
       "      <td>1</td>\n",
       "      <td>46.0</td>\n",
       "      <td>Beauty</td>\n",
       "      <td>3.0</td>\n",
       "      <td>500.0</td>\n",
       "      <td>145.0</td>\n",
       "      <td>1500.0</td>\n",
       "    </tr>\n",
       "    <tr>\n",
       "      <th>2</th>\n",
       "      <td>0</td>\n",
       "      <td>40.0</td>\n",
       "      <td>Clothing</td>\n",
       "      <td>4.0</td>\n",
       "      <td>300.0</td>\n",
       "      <td>84.0</td>\n",
       "      <td>1200.0</td>\n",
       "    </tr>\n",
       "    <tr>\n",
       "      <th>3</th>\n",
       "      <td>1</td>\n",
       "      <td>41.0</td>\n",
       "      <td>Clothing</td>\n",
       "      <td>3.0</td>\n",
       "      <td>300.0</td>\n",
       "      <td>129.0</td>\n",
       "      <td>900.0</td>\n",
       "    </tr>\n",
       "    <tr>\n",
       "      <th>4</th>\n",
       "      <td>1</td>\n",
       "      <td>46.0</td>\n",
       "      <td>Beauty</td>\n",
       "      <td>3.0</td>\n",
       "      <td>500.0</td>\n",
       "      <td>235.0</td>\n",
       "      <td>1500.0</td>\n",
       "    </tr>\n",
       "  </tbody>\n",
       "</table>\n",
       "</div>"
      ],
      "text/plain": [
       "   gender   age  category  quantiy  price_per_unit   cogs  total_sale\n",
       "0       1  41.0  Clothing      3.0           300.0  129.0       900.0\n",
       "1       1  46.0    Beauty      3.0           500.0  145.0      1500.0\n",
       "2       0  40.0  Clothing      4.0           300.0   84.0      1200.0\n",
       "3       1  41.0  Clothing      3.0           300.0  129.0       900.0\n",
       "4       1  46.0    Beauty      3.0           500.0  235.0      1500.0"
      ]
     },
     "execution_count": 10,
     "metadata": {},
     "output_type": "execute_result"
    }
   ],
   "source": [
    "df.head()"
   ]
  },
  {
   "cell_type": "code",
   "execution_count": 11,
   "id": "0dcff73a",
   "metadata": {},
   "outputs": [],
   "source": [
    "df = pd.get_dummies(data=df, columns = ['category'], dtype=int,drop_first=True)"
   ]
  },
  {
   "cell_type": "code",
   "execution_count": 12,
   "id": "4e3fe075",
   "metadata": {},
   "outputs": [],
   "source": [
    "target = df['total_sale']\n",
    "feature = df.drop(columns = ['total_sale'])"
   ]
  },
  {
   "cell_type": "code",
   "execution_count": 31,
   "id": "5d3b57a6",
   "metadata": {},
   "outputs": [],
   "source": [
    "from sklearn.model_selection import train_test_split\n",
    "x_train,x_test,y_train,y_test = train_test_split(feature,target,train_size = 0.75, random_state = 42)"
   ]
  },
  {
   "cell_type": "code",
   "execution_count": 32,
   "id": "3a69aa1d",
   "metadata": {},
   "outputs": [
    {
     "data": {
      "text/plain": [
       "966    900.0\n",
       "Name: total_sale, dtype: float64"
      ]
     },
     "execution_count": 32,
     "metadata": {},
     "output_type": "execute_result"
    }
   ],
   "source": [
    "y_train.sample()"
   ]
  },
  {
   "cell_type": "code",
   "execution_count": 33,
   "id": "c2d65473",
   "metadata": {},
   "outputs": [],
   "source": [
    "from sklearn.ensemble import AdaBoostRegressor"
   ]
  },
  {
   "cell_type": "code",
   "execution_count": 42,
   "id": "f85e8dd9",
   "metadata": {},
   "outputs": [],
   "source": [
    "params = {'n_estimators':100,\n",
    "          'learning_rate':0.1,\n",
    "        }"
   ]
  },
  {
   "cell_type": "code",
   "execution_count": 43,
   "id": "06a571d1",
   "metadata": {},
   "outputs": [],
   "source": [
    "adaboost = AdaBoostRegressor(**params)\n",
    "\n",
    "adaboost.fit(x_train,y_train)\n",
    "\n",
    "y_pred = adaboost.predict(x_test)\n",
    "\n",
    "\n"
   ]
  },
  {
   "cell_type": "code",
   "execution_count": null,
   "id": "6e8d584b",
   "metadata": {},
   "outputs": [],
   "source": [
    "from sklearn.metrics import r2_score,root_mean_squared_error\n",
    "\n",
    "r2score = r2_score(y_test,y_pred)\n",
    "rmse = root_mean_squared_error(y_test,y_pred)"
   ]
  },
  {
   "cell_type": "code",
   "execution_count": 45,
   "id": "501cedc5",
   "metadata": {},
   "outputs": [],
   "source": [
    "report_dict = {'r2_score':r2score,\n",
    "               'rmse':rmse}\n"
   ]
  },
  {
   "cell_type": "code",
   "execution_count": 46,
   "id": "f856e8f9",
   "metadata": {},
   "outputs": [],
   "source": [
    "import mlflow\n",
    "mlflow.set_experiment('First regression')\n",
    "mlflow.set_tracking_uri(uri = 'http://127.0.0.1:5000')"
   ]
  },
  {
   "cell_type": "code",
   "execution_count": null,
   "id": "be56a199",
   "metadata": {},
   "outputs": [
    {
     "name": "stderr",
     "output_type": "stream",
     "text": [
      "c:\\Users\\rgarlay\\Desktop\\DS\\Learning Python\\Retail_Project\\venv\\Lib\\site-packages\\mlflow\\types\\utils.py:452: UserWarning: Hint: Inferred schema contains integer column(s). Integer columns in Python cannot represent missing values. If your input data contains missing values at inference time, it will be encoded as floats and will cause a schema enforcement error. The best way to avoid this problem is to infer the model schema based on a realistic data sample (training dataset) that includes missing values. Alternatively, you can declare integer columns as doubles (float64) whenever these columns may have missing values. See `Handling Integers With Missing Values <https://www.mlflow.org/docs/latest/models.html#handling-integers-with-missing-values>`_ for more details.\n",
      "  warnings.warn(\n"
     ]
    },
    {
     "name": "stdout",
     "output_type": "stream",
     "text": [
      "🏃 View run dashing-goat-120 at: http://127.0.0.1:5000/#/experiments/514112760406491729/runs/51b1f42e8e7a49ab9d4d3f7bbddc6cd4\n",
      "🧪 View experiment at: http://127.0.0.1:5000/#/experiments/514112760406491729\n"
     ]
    }
   ],
   "source": [
    "with mlflow.start_run():\n",
    "    mlflow.log_params(params)\n",
    "    mlflow.log_metrics({\n",
    "        'r2_score':report_dict['r2_score'],\n",
    "        'rmse':report_dict['rmse']\n",
    "    })\n",
    "    mlflow.sklearn.log_model(sk_model=adaboost,name = 'AdaBoostRegressor',input_example=feature)"
   ]
  },
  {
   "cell_type": "code",
   "execution_count": 53,
   "id": "7c52aa57",
   "metadata": {},
   "outputs": [],
   "source": [
    "params_second = {'n_estimators':200,\n",
    "          'learning_rate':0.01,\n",
    "        }"
   ]
  },
  {
   "cell_type": "code",
   "execution_count": null,
   "id": "ea78d6ad",
   "metadata": {},
   "outputs": [],
   "source": [
    "adaboost = AdaBoostRegressor(**params_second)\n",
    "adaboost.fit(x_train,y_train)\n",
    "y_pred = adaboost.predict(x_test)\n",
    "\n",
    "from sklearn.metrics import r2_score,root_mean_squared_error\n",
    "r2score = r2_score(y_test,y_pred)\n",
    "rmse = root_mean_squared_error(y_test,y_pred)"
   ]
  },
  {
   "cell_type": "code",
   "execution_count": 55,
   "id": "bf965e05",
   "metadata": {},
   "outputs": [
    {
     "name": "stderr",
     "output_type": "stream",
     "text": [
      "c:\\Users\\rgarlay\\Desktop\\DS\\Learning Python\\Retail_Project\\venv\\Lib\\site-packages\\mlflow\\types\\utils.py:452: UserWarning: Hint: Inferred schema contains integer column(s). Integer columns in Python cannot represent missing values. If your input data contains missing values at inference time, it will be encoded as floats and will cause a schema enforcement error. The best way to avoid this problem is to infer the model schema based on a realistic data sample (training dataset) that includes missing values. Alternatively, you can declare integer columns as doubles (float64) whenever these columns may have missing values. See `Handling Integers With Missing Values <https://www.mlflow.org/docs/latest/models.html#handling-integers-with-missing-values>`_ for more details.\n",
      "  warnings.warn(\n"
     ]
    },
    {
     "name": "stdout",
     "output_type": "stream",
     "text": [
      "🏃 View run learned-croc-358 at: http://127.0.0.1:5000/#/experiments/514112760406491729/runs/32b73772bb7b46b7a9b2898c0b3ca776\n",
      "🧪 View experiment at: http://127.0.0.1:5000/#/experiments/514112760406491729\n"
     ]
    }
   ],
   "source": [
    "mlflow.set_experiment('First regression')\n",
    "mlflow.set_tracking_uri(uri = 'http://127.0.0.1:5000')\n",
    "\n",
    "with mlflow.start_run():\n",
    "    mlflow.log_params(params_second)\n",
    "    mlflow.log_metrics({\n",
    "        'r2_score':report_dict['r2_score'],\n",
    "        'rmse':report_dict['rmse']\n",
    "    })\n",
    "    mlflow.sklearn.log_model(sk_model=adaboost,name = 'AdaBoostRegressor',input_example=feature)"
   ]
  },
  {
   "cell_type": "code",
   "execution_count": null,
   "id": "0ea06258",
   "metadata": {},
   "outputs": [],
   "source": []
  },
  {
   "cell_type": "code",
   "execution_count": null,
   "id": "7d503e6a",
   "metadata": {},
   "outputs": [],
   "source": []
  },
  {
   "cell_type": "code",
   "execution_count": null,
   "id": "d1c7f725",
   "metadata": {},
   "outputs": [],
   "source": []
  },
  {
   "cell_type": "code",
   "execution_count": null,
   "id": "d1aa2255",
   "metadata": {},
   "outputs": [],
   "source": []
  },
  {
   "cell_type": "code",
   "execution_count": null,
   "id": "add65881",
   "metadata": {},
   "outputs": [],
   "source": []
  },
  {
   "cell_type": "code",
   "execution_count": null,
   "id": "84027704",
   "metadata": {},
   "outputs": [],
   "source": []
  }
 ],
 "metadata": {
  "kernelspec": {
   "display_name": "Python 3",
   "language": "python",
   "name": "python3"
  },
  "language_info": {
   "codemirror_mode": {
    "name": "ipython",
    "version": 3
   },
   "file_extension": ".py",
   "mimetype": "text/x-python",
   "name": "python",
   "nbconvert_exporter": "python",
   "pygments_lexer": "ipython3",
   "version": "3.13.7"
  }
 },
 "nbformat": 4,
 "nbformat_minor": 5
}
